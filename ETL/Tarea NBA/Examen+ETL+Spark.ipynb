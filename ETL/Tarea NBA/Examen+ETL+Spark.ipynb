{
 "cells": [
  {
   "cell_type": "markdown",
   "metadata": {},
   "source": [
    "# Examen ETL: SPARK 02/02"
   ]
  },
  {
   "cell_type": "markdown",
   "metadata": {},
   "source": [
    "* Autor: Beltrán Aller López\n",
    "* Fecha: 02/12/2019\n",
    "* Asignatura: ETL"
   ]
  },
  {
   "cell_type": "markdown",
   "metadata": {},
   "source": [
    "Se podrá utilizar toda la información que se encuentra en el campus. \n",
    "\n",
    "El fichero de datos sobre el que se trabajará es el de partidosLigaNBA.txt.\n",
    "\n",
    "A cada una de las preguntas hay que responder explicando brevemente que se pretende hacer antes de lanzar el código.\n",
    "\n",
    "Al documento lo llamareís con vuestro nombre y apellido. Debeís enviarlo a mi correo de CUNEF antes del final del examen.\n",
    "\n",
    "El lenguaje para trabajar con Spark podrá ser python o R indistintamente."
   ]
  },
  {
   "cell_type": "markdown",
   "metadata": {},
   "source": [
    "## Primera pregunta: Describe brevemente que diferencia el persists, cache y collect en spark. Explica brevemente casos en los que es interesante su aplicación"
   ]
  },
  {
   "cell_type": "markdown",
   "metadata": {},
   "source": [
    "Cache es una transformación. Se utiliza para guardar transformaciones intermedias y así poder reutilizarlas posteriormente."
   ]
  },
  {
   "cell_type": "markdown",
   "metadata": {},
   "source": [
    "Persists es una tranformación también, al igual que cache. Se utiliza para lo mismo que cache, pero en este caso te permite pasarle como parámetro el nivel de almacenamiento."
   ]
  },
  {
   "cell_type": "markdown",
   "metadata": {},
   "source": [
    "Collect es una acción. Devuelve todos los elementos de un RDD en una lista de Python."
   ]
  },
  {
   "cell_type": "markdown",
   "metadata": {},
   "source": [
    "## Segunda pregunta: Explica brevemente los pasos a seguir para realizar la carga de un conjunto de datos (pasos que se siguieron en la práctica con datos de logs)"
   ]
  },
  {
   "cell_type": "markdown",
   "metadata": {
    "collapsed": true
   },
   "source": [
    "En primer lugar se ha de inicializar el contexto spark."
   ]
  },
  {
   "cell_type": "code",
   "execution_count": 1,
   "metadata": {
    "collapsed": true
   },
   "outputs": [],
   "source": [
    "from pyspark import SparkContext\n",
    "sc = SparkContext(\"local\", \"First App\")"
   ]
  },
  {
   "cell_type": "markdown",
   "metadata": {},
   "source": [
    "Ahora cargamos el archivo propiamente dicho"
   ]
  },
  {
   "cell_type": "code",
   "execution_count": 2,
   "metadata": {
    "collapsed": true
   },
   "outputs": [],
   "source": [
    "data_file = \"./partidosLigaNBA.csv\"\n",
    "liga_data = sc.textFile(data_file)"
   ]
  },
  {
   "cell_type": "markdown",
   "metadata": {},
   "source": [
    "Realizamos un conteo  a ver si están todos los datos"
   ]
  },
  {
   "cell_type": "code",
   "execution_count": 3,
   "metadata": {
    "collapsed": false
   },
   "outputs": [
    {
     "data": {
      "text/plain": [
       "12908"
      ]
     },
     "execution_count": 3,
     "metadata": {},
     "output_type": "execute_result"
    }
   ],
   "source": [
    "liga_data.count()"
   ]
  },
  {
   "cell_type": "markdown",
   "metadata": {},
   "source": [
    "Por último echamos un vistazo a ver la forma que tiene"
   ]
  },
  {
   "cell_type": "code",
   "execution_count": 4,
   "metadata": {
    "collapsed": false
   },
   "outputs": [
    {
     "data": {
      "text/plain": [
       "['Date:Start..ET.:Visitor.Neutral:PTS:Home.Neutral:PTS.1',\n",
       " 'Tue, Oct 30, 2007:\"7:30 pm\":Utah Jazz:117:Golden State Warriors:96',\n",
       " 'Tue, Oct 30, 2007:\"7:30 pm\":Houston Rockets:95:Los Angeles Lakers:93']"
      ]
     },
     "execution_count": 4,
     "metadata": {},
     "output_type": "execute_result"
    }
   ],
   "source": [
    "liga_data.take(3)"
   ]
  },
  {
   "cell_type": "markdown",
   "metadata": {},
   "source": [
    "## Tercera Pregunta: Índica un tipo de problema que puede empeorar los datos. (pe. Que no exista un representante del CDO en todas las áreas de negocio), pon algún ejemplo específico (pe. Datos duplicados) y cómo lo tratarías con técnicas de data cleaning."
   ]
  },
  {
   "cell_type": "markdown",
   "metadata": {},
   "source": [
    "Que estos no estén separados por los mismos caractéres siempre, por ejemplo, que a veces estén separados por comas y otras por puntos y comas. También que la identación varíe. Habría que establecer tantas expresiones regulares como casos y pasea el fichero con esas expresiones."
   ]
  },
  {
   "cell_type": "markdown",
   "metadata": {},
   "source": [
    "## Cuarta tarea: Inicializar spark context y cargar los datos desde el fichero."
   ]
  },
  {
   "cell_type": "code",
   "execution_count": 7,
   "metadata": {
    "collapsed": false
   },
   "outputs": [],
   "source": [
    "from pyspark import SparkContext\n",
    "sc = SparkContext(\"local\", \"First App\")"
   ]
  },
  {
   "cell_type": "code",
   "execution_count": 9,
   "metadata": {
    "collapsed": true
   },
   "outputs": [],
   "source": [
    "data_file = \"./partidosLigaNBA.csv\"\n",
    "liga_data = sc.textFile(data_file)"
   ]
  },
  {
   "cell_type": "code",
   "execution_count": 10,
   "metadata": {
    "collapsed": false
   },
   "outputs": [
    {
     "data": {
      "text/plain": [
       "['Date:Start..ET.:Visitor.Neutral:PTS:Home.Neutral:PTS.1',\n",
       " 'Tue, Oct 30, 2007:\"7:30 pm\":Utah Jazz:117:Golden State Warriors:96',\n",
       " 'Tue, Oct 30, 2007:\"7:30 pm\":Houston Rockets:95:Los Angeles Lakers:93']"
      ]
     },
     "execution_count": 10,
     "metadata": {},
     "output_type": "execute_result"
    }
   ],
   "source": [
    "liga_data.take(3)"
   ]
  },
  {
   "cell_type": "code",
   "execution_count": 11,
   "metadata": {
    "collapsed": false
   },
   "outputs": [
    {
     "data": {
      "text/plain": [
       "12908"
      ]
     },
     "execution_count": 11,
     "metadata": {},
     "output_type": "execute_result"
    }
   ],
   "source": [
    "liga_data.count()"
   ]
  },
  {
   "cell_type": "markdown",
   "metadata": {},
   "source": [
    "Quito el header y los playoffs"
   ]
  },
  {
   "cell_type": "code",
   "execution_count": 12,
   "metadata": {
    "collapsed": true
   },
   "outputs": [],
   "source": [
    "liga_data_split = liga_data.filter(lambda x: \"PTS\" not in x).filter(lambda x: \"Playoffs\" not in x)"
   ]
  },
  {
   "cell_type": "code",
   "execution_count": 13,
   "metadata": {
    "collapsed": true
   },
   "outputs": [],
   "source": [
    "import re"
   ]
  },
  {
   "cell_type": "markdown",
   "metadata": {},
   "source": [
    "Defino las expresiones regulares, hay 3 casos porque hay un equipo que tiene números en el nombre, por ello hay que considerar que ninguno los tenga, que los tenga el visitante o que los tenga el local."
   ]
  },
  {
   "cell_type": "code",
   "execution_count": 14,
   "metadata": {
    "collapsed": true
   },
   "outputs": [],
   "source": [
    "expresion1 = '^(\\S+)\\,\\s(\\S+)\\s(\\d+)\\,\\s(\\d{4})\\:\"(\\d+[:]\\d{2}\\s\\S+)\"\\:(\\D+)\\:(\\d+)\\:(\\D+)\\:(\\d+)'"
   ]
  },
  {
   "cell_type": "code",
   "execution_count": 15,
   "metadata": {
    "collapsed": true
   },
   "outputs": [],
   "source": [
    "expresion2 = '^(\\S+)\\,\\s(\\S+)\\s(\\d+)\\,\\s(\\d{4})\\:\"(\\d+[:]\\d{2}\\s\\S+)\"\\:(\\D+\\s\\S+)\\:(\\d+)\\:(\\D+)\\:(\\d+)'"
   ]
  },
  {
   "cell_type": "code",
   "execution_count": 16,
   "metadata": {
    "collapsed": true
   },
   "outputs": [],
   "source": [
    "expresion3 = '^(\\S+)\\,\\s(\\S+)\\s(\\d+)\\,\\s(\\d{4})\\:\"(\\d+[:]\\d{2}\\s\\S+)\"\\:(\\D+)\\:(\\d+)\\:(\\D+\\s\\S+)\\:(\\d+)'"
   ]
  },
  {
   "cell_type": "code",
   "execution_count": 17,
   "metadata": {
    "collapsed": false
   },
   "outputs": [],
   "source": [
    "def parse_log(line):\n",
    "    match = re.search(expresion1, line)\n",
    "    if match is None:\n",
    "        match = re.search(expresion2, line)\n",
    "    if match is None:\n",
    "        match = re.search(expresion3, line)\n",
    "    return match.groups()"
   ]
  },
  {
   "cell_type": "code",
   "execution_count": 18,
   "metadata": {
    "collapsed": true
   },
   "outputs": [],
   "source": [
    "ejemplo = liga_data_split.take(2)"
   ]
  },
  {
   "cell_type": "code",
   "execution_count": 19,
   "metadata": {
    "collapsed": false
   },
   "outputs": [
    {
     "data": {
      "text/plain": [
       "'Tue, Oct 30, 2007:\"7:30 pm\":Houston Rockets:95:Los Angeles Lakers:93'"
      ]
     },
     "execution_count": 19,
     "metadata": {},
     "output_type": "execute_result"
    }
   ],
   "source": [
    "ejemplo[1]"
   ]
  },
  {
   "cell_type": "code",
   "execution_count": 20,
   "metadata": {
    "collapsed": false
   },
   "outputs": [],
   "source": [
    "prueba = re.search(expresion1, ejemplo[1])"
   ]
  },
  {
   "cell_type": "code",
   "execution_count": 21,
   "metadata": {
    "collapsed": false
   },
   "outputs": [
    {
     "data": {
      "text/plain": [
       "('Tue',\n",
       " 'Oct',\n",
       " '30',\n",
       " '2007',\n",
       " '7:30 pm',\n",
       " 'Houston Rockets',\n",
       " '95',\n",
       " 'Los Angeles Lakers',\n",
       " '93')"
      ]
     },
     "execution_count": 21,
     "metadata": {},
     "output_type": "execute_result"
    }
   ],
   "source": [
    "prueba.groups()"
   ]
  },
  {
   "cell_type": "markdown",
   "metadata": {},
   "source": [
    "## Quinta tarea: Media de la diferencia de puntos por año"
   ]
  },
  {
   "cell_type": "markdown",
   "metadata": {},
   "source": [
    "Lo primero, aplicar el parseo."
   ]
  },
  {
   "cell_type": "code",
   "execution_count": 22,
   "metadata": {
    "collapsed": true
   },
   "outputs": [],
   "source": [
    "liga_parsed = liga_data_split.map(lambda line:parse_log(line))"
   ]
  },
  {
   "cell_type": "code",
   "execution_count": 23,
   "metadata": {
    "collapsed": false
   },
   "outputs": [
    {
     "data": {
      "text/plain": [
       "[('Tue',\n",
       "  'Oct',\n",
       "  '30',\n",
       "  '2007',\n",
       "  '7:30 pm',\n",
       "  'Utah Jazz',\n",
       "  '117',\n",
       "  'Golden State Warriors',\n",
       "  '96')]"
      ]
     },
     "execution_count": 23,
     "metadata": {},
     "output_type": "execute_result"
    }
   ],
   "source": [
    "liga_parsed.take(1)"
   ]
  },
  {
   "cell_type": "markdown",
   "metadata": {},
   "source": [
    "Calculo la diferencia de puntos por partido, me quedaré con el año en que se jugó el partido y esa diferencia."
   ]
  },
  {
   "cell_type": "code",
   "execution_count": 24,
   "metadata": {
    "collapsed": false
   },
   "outputs": [],
   "source": [
    "diferencia_puntos = liga_parsed.map(lambda x: (x[3], abs((int(x[6])-int(x[8])))))\n",
    "# diferencia de puntos entre visitantes y locales"
   ]
  },
  {
   "cell_type": "code",
   "execution_count": 25,
   "metadata": {
    "collapsed": false
   },
   "outputs": [
    {
     "data": {
      "text/plain": [
       "[('2007', 21),\n",
       " ('2007', 2),\n",
       " ('2007', 9),\n",
       " ('2007', 18),\n",
       " ('2007', 17),\n",
       " ('2007', 9),\n",
       " ('2007', 3),\n",
       " ('2007', 9),\n",
       " ('2007', 14),\n",
       " ('2007', 19)]"
      ]
     },
     "execution_count": 25,
     "metadata": {},
     "output_type": "execute_result"
    }
   ],
   "source": [
    "diferencia_puntos.take(10)"
   ]
  },
  {
   "cell_type": "markdown",
   "metadata": {},
   "source": [
    "Ahora agrupo en función del año."
   ]
  },
  {
   "cell_type": "code",
   "execution_count": 26,
   "metadata": {
    "collapsed": false
   },
   "outputs": [
    {
     "data": {
      "text/plain": [
       "[('2017', 9172),\n",
       " ('2013', 14659),\n",
       " ('2016', 15397),\n",
       " ('2011', 9435),\n",
       " ('2014', 14547),\n",
       " ('2008', 15376),\n",
       " ('2007', 5060),\n",
       " ('2015', 14720),\n",
       " ('2009', 14595),\n",
       " ('2010', 14358),\n",
       " ('2012', 15986)]"
      ]
     },
     "execution_count": 26,
     "metadata": {},
     "output_type": "execute_result"
    }
   ],
   "source": [
    "# ahora sumo todas las diferencias, de forma que tengo el año y la diferencia en valor absoluto\n",
    "diferencia_agrupada = diferencia_puntos.reduceByKey(lambda x,y: x + y)\n",
    "diferencia_agrupada.collect()"
   ]
  },
  {
   "cell_type": "markdown",
   "metadata": {},
   "source": [
    "Calculo el número de partidos que se han jugado por año. El método es parecido al de antes, pero hago un conteo."
   ]
  },
  {
   "cell_type": "code",
   "execution_count": 27,
   "metadata": {
    "collapsed": false
   },
   "outputs": [
    {
     "data": {
      "text/plain": [
       "[('2017', 803),\n",
       " ('2013', 1324),\n",
       " ('2016', 1333),\n",
       " ('2011', 885),\n",
       " ('2014', 1334),\n",
       " ('2008', 1332),\n",
       " ('2007', 456),\n",
       " ('2015', 1319),\n",
       " ('2009', 1316),\n",
       " ('2010', 1321),\n",
       " ('2012', 1474)]"
      ]
     },
     "execution_count": 27,
     "metadata": {},
     "output_type": "execute_result"
    }
   ],
   "source": [
    "# numero de partidos\n",
    "num_partidos = liga_parsed.map(lambda x: (x[3],1)).reduceByKey(lambda x,y: x + y)\n",
    "num_partidos.collect()"
   ]
  },
  {
   "cell_type": "markdown",
   "metadata": {},
   "source": [
    "Ahora realizo un join de los dos rdd, diferencia de puntos y número de partidos, divido la diferencia entre el número de partidos."
   ]
  },
  {
   "cell_type": "code",
   "execution_count": 28,
   "metadata": {
    "collapsed": false
   },
   "outputs": [
    {
     "data": {
      "text/plain": [
       "[('2007', 11.096491228070175),\n",
       " ('2008', 11.543543543543544),\n",
       " ('2009', 11.090425531914894),\n",
       " ('2010', 10.86903860711582),\n",
       " ('2011', 10.661016949152541),\n",
       " ('2012', 10.845318860244234),\n",
       " ('2013', 11.071752265861027),\n",
       " ('2014', 10.9047976011994),\n",
       " ('2015', 11.159969673995452),\n",
       " ('2016', 11.550637659414853),\n",
       " ('2017', 11.422166874221668)]"
      ]
     },
     "execution_count": 28,
     "metadata": {},
     "output_type": "execute_result"
    }
   ],
   "source": [
    "# uno los rdd\n",
    "diferencia_agrupada.join(num_partidos).map(lambda x:(x[0],(x[1][0]/x[1][1]))).sortByKey().collect()"
   ]
  },
  {
   "cell_type": "markdown",
   "metadata": {},
   "source": [
    "## Sexta tarea: ¿Han jugado todos los equipos el mismo número de partidos? ¿ Si es qué no a que puede deberse?"
   ]
  },
  {
   "cell_type": "markdown",
   "metadata": {},
   "source": [
    "Hago un conteo de los partidos como local de cada equipo."
   ]
  },
  {
   "cell_type": "code",
   "execution_count": 29,
   "metadata": {
    "collapsed": false
   },
   "outputs": [],
   "source": [
    "num_partidos_equipo_local = liga_parsed.map(lambda x: (x[5],1)).reduceByKey(lambda y,z: y + z)"
   ]
  },
  {
   "cell_type": "code",
   "execution_count": 30,
   "metadata": {
    "collapsed": false
   },
   "outputs": [
    {
     "data": {
      "text/plain": [
       "[('New Orleans Pelicans', 166),\n",
       " ('Sacramento Kings', 402),\n",
       " ('Charlotte Hornets', 127),\n",
       " ('Phoenix Suns', 413),\n",
       " ('San Antonio Spurs', 466),\n",
       " ('Miami Heat', 456),\n",
       " ('Golden State Warriors', 440),\n",
       " ('Brooklyn Nets', 218),\n",
       " ('Milwaukee Bucks', 414),\n",
       " ('New Jersey Nets', 197),\n",
       " ('Seattle SuperSonics', 41),\n",
       " ('Utah Jazz', 424),\n",
       " ('Los Angeles Lakers', 447),\n",
       " ('Indiana Pacers', 434),\n",
       " ('Houston Rockets', 434),\n",
       " ('Dallas Mavericks', 436),\n",
       " ('Oklahoma City Thunder', 408),\n",
       " ('Washington Wizards', 423),\n",
       " ('Cleveland Cavaliers', 452),\n",
       " ('Chicago Bulls', 437),\n",
       " ('Toronto Raptors', 424),\n",
       " ('Portland Trail Blazers', 428),\n",
       " ('New Orleans Hornets', 249),\n",
       " ('Memphis Grizzlies', 434),\n",
       " ('Denver Nuggets', 424),\n",
       " ('Philadelphia 76ers', 418),\n",
       " ('New York Knicks', 413),\n",
       " ('Orlando Magic', 432),\n",
       " ('Boston Celtics', 463),\n",
       " ('Atlanta Hawks', 448),\n",
       " ('Detroit Pistons', 414),\n",
       " ('Minnesota Timberwolves', 402),\n",
       " ('Charlotte Bobcats', 283),\n",
       " ('Los Angeles Clippers', 430)]"
      ]
     },
     "execution_count": 30,
     "metadata": {},
     "output_type": "execute_result"
    }
   ],
   "source": [
    "num_partidos_equipo_local.collect()"
   ]
  },
  {
   "cell_type": "markdown",
   "metadata": {},
   "source": [
    "Hago lo mismo que antes pero para visitantes."
   ]
  },
  {
   "cell_type": "code",
   "execution_count": 31,
   "metadata": {
    "collapsed": true
   },
   "outputs": [],
   "source": [
    "num_partidos_equipo_visitante = liga_parsed.map(lambda x: (x[7],1)).reduceByKey(lambda y,z: y + z)"
   ]
  },
  {
   "cell_type": "code",
   "execution_count": 32,
   "metadata": {
    "collapsed": false
   },
   "outputs": [
    {
     "data": {
      "text/plain": [
       "[('New Orleans Pelicans', 166),\n",
       " ('Sacramento Kings', 402),\n",
       " ('Atlanta Hawks', 448),\n",
       " ('Charlotte Hornets', 126),\n",
       " ('Phoenix Suns', 412),\n",
       " ('San Antonio Spurs', 467),\n",
       " ('Golden State Warriors', 445),\n",
       " ('Brooklyn Nets', 217),\n",
       " ('Toronto Raptors', 426),\n",
       " ('New Jersey Nets', 197),\n",
       " ('Boston Celtics', 467),\n",
       " ('Utah Jazz', 422),\n",
       " ('Los Angeles Lakers', 450),\n",
       " ('Miami Heat', 461),\n",
       " ('Houston Rockets', 434),\n",
       " ('Dallas Mavericks', 431),\n",
       " ('Oklahoma City Thunder', 410),\n",
       " ('Washington Wizards', 421),\n",
       " ('Cleveland Cavaliers', 449),\n",
       " ('Chicago Bulls', 436),\n",
       " ('Milwaukee Bucks', 413),\n",
       " ('New Orleans Hornets', 250),\n",
       " ('Seattle SuperSonics', 41),\n",
       " ('Denver Nuggets', 424),\n",
       " ('Detroit Pistons', 415),\n",
       " ('Philadelphia 76ers', 416),\n",
       " ('New York Knicks', 412),\n",
       " ('Orlando Magic', 431),\n",
       " ('Indiana Pacers', 434),\n",
       " ('Charlotte Bobcats', 283),\n",
       " ('Portland Trail Blazers', 425),\n",
       " ('Minnesota Timberwolves', 402),\n",
       " ('Memphis Grizzlies', 433),\n",
       " ('Los Angeles Clippers', 431)]"
      ]
     },
     "execution_count": 32,
     "metadata": {},
     "output_type": "execute_result"
    }
   ],
   "source": [
    "num_partidos_equipo_visitante.collect()"
   ]
  },
  {
   "cell_type": "markdown",
   "metadata": {},
   "source": [
    "Se observan diferencias entre algunos equipos, esto puede deberse a que hayan jugado playoff o no, además algunos equipos cambiaron de nombre y por tanto aparecen duplicados, con el nombre antiguo y el nuevo, como si fuesen distintos."
   ]
  },
  {
   "cell_type": "markdown",
   "metadata": {},
   "source": [
    "Una de las razones a las que se puede deber es si el equipo se clasificó o no para playoffs, aquellos que se clasifiquen y jueguen los playoffs habrán disputado más partidos"
   ]
  },
  {
   "cell_type": "markdown",
   "metadata": {},
   "source": [
    "## Séptima pregunta: ¿Cuantos partidos ha ganado en Enero Cleveland?"
   ]
  },
  {
   "cell_type": "markdown",
   "metadata": {},
   "source": [
    "Me quedo sólo con los partidos de enero."
   ]
  },
  {
   "cell_type": "code",
   "execution_count": 33,
   "metadata": {
    "collapsed": false
   },
   "outputs": [
    {
     "data": {
      "text/plain": [
       "[('Wed',\n",
       "  'Jan',\n",
       "  '2',\n",
       "  '2008',\n",
       "  '7:30 pm',\n",
       "  'Houston Rockets',\n",
       "  '93',\n",
       "  'Boston Celtics',\n",
       "  '97'),\n",
       " ('Wed',\n",
       "  'Jan',\n",
       "  '2',\n",
       "  '2008',\n",
       "  '7:00 pm',\n",
       "  'Chicago Bulls',\n",
       "  '109',\n",
       "  'Charlotte Bobcats',\n",
       "  '97'),\n",
       " ('Wed',\n",
       "  'Jan',\n",
       "  '2',\n",
       "  '2008',\n",
       "  '7:00 pm',\n",
       "  'Atlanta Hawks',\n",
       "  '94',\n",
       "  'Cleveland Cavaliers',\n",
       "  '98'),\n",
       " ('Wed',\n",
       "  'Jan',\n",
       "  '2',\n",
       "  '2008',\n",
       "  '7:30 pm',\n",
       "  'Golden State Warriors',\n",
       "  '99',\n",
       "  'Dallas Mavericks',\n",
       "  '121'),\n",
       " ('Wed',\n",
       "  'Jan',\n",
       "  '2',\n",
       "  '2008',\n",
       "  '7:00 pm',\n",
       "  'Memphis Grizzlies',\n",
       "  '90',\n",
       "  'Indiana Pacers',\n",
       "  '72'),\n",
       " ('Wed',\n",
       "  'Jan',\n",
       "  '2',\n",
       "  '2008',\n",
       "  '7:30 pm',\n",
       "  'New Orleans Hornets',\n",
       "  '95',\n",
       "  'Los Angeles Clippers',\n",
       "  '81'),\n",
       " ('Wed',\n",
       "  'Jan',\n",
       "  '2',\n",
       "  '2008',\n",
       "  '7:30 pm',\n",
       "  'Milwaukee Bucks',\n",
       "  '103',\n",
       "  'Miami Heat',\n",
       "  '98'),\n",
       " ('Wed',\n",
       "  'Jan',\n",
       "  '2',\n",
       "  '2008',\n",
       "  '7:00 pm',\n",
       "  'Portland Trail Blazers',\n",
       "  '90',\n",
       "  'Minnesota Timberwolves',\n",
       "  '79'),\n",
       " ('Wed',\n",
       "  'Jan',\n",
       "  '2',\n",
       "  '2008',\n",
       "  '7:30 pm',\n",
       "  'Sacramento Kings',\n",
       "  '107',\n",
       "  'New York Knicks',\n",
       "  '97'),\n",
       " ('Wed',\n",
       "  'Jan',\n",
       "  '2',\n",
       "  '2008',\n",
       "  '7:00 pm',\n",
       "  'New Jersey Nets',\n",
       "  '96',\n",
       "  'Orlando Magic',\n",
       "  '95'),\n",
       " ('Wed',\n",
       "  'Jan',\n",
       "  '2',\n",
       "  '2008',\n",
       "  '7:00 pm',\n",
       "  'Philadelphia 76ers',\n",
       "  '107',\n",
       "  'Utah Jazz',\n",
       "  '110'),\n",
       " ('Wed',\n",
       "  'Jan',\n",
       "  '2',\n",
       "  '2008',\n",
       "  '7:00 pm',\n",
       "  'Detroit Pistons',\n",
       "  '106',\n",
       "  'Washington Wizards',\n",
       "  '93'),\n",
       " ('Thu',\n",
       "  'Jan',\n",
       "  '3',\n",
       "  '2008',\n",
       "  '7:00 pm',\n",
       "  'Portland Trail Blazers',\n",
       "  '115',\n",
       "  'Chicago Bulls',\n",
       "  '109'),\n",
       " ('Thu',\n",
       "  'Jan',\n",
       "  '3',\n",
       "  '2008',\n",
       "  '7:00 pm',\n",
       "  'San Antonio Spurs',\n",
       "  '77',\n",
       "  'Denver Nuggets',\n",
       "  '80'),\n",
       " ('Thu',\n",
       "  'Jan',\n",
       "  '3',\n",
       "  '2008',\n",
       "  '8:30 pm',\n",
       "  'Seattle SuperSonics',\n",
       "  '96',\n",
       "  'Phoenix Suns',\n",
       "  '104')]"
      ]
     },
     "execution_count": 33,
     "metadata": {},
     "output_type": "execute_result"
    }
   ],
   "source": [
    "partidos_enero = liga_parsed.filter(lambda x: x[1] == 'Jan')\n",
    "partidos_enero.take(15)"
   ]
  },
  {
   "cell_type": "markdown",
   "metadata": {},
   "source": [
    "De los de enero, me quedo con los que Cleveland es local y aparte con los que ganó."
   ]
  },
  {
   "cell_type": "code",
   "execution_count": 34,
   "metadata": {
    "collapsed": false
   },
   "outputs": [
    {
     "data": {
      "text/plain": [
       "42"
      ]
     },
     "execution_count": 34,
     "metadata": {},
     "output_type": "execute_result"
    }
   ],
   "source": [
    "partidos_enero_local_cleveland = partidos_enero.filter(lambda x: x[7] == 'Cleveland Cavaliers').filter(lambda x: int(x[8]) > int(x[6]))\n",
    "partidos_enero_local_cleveland.count()"
   ]
  },
  {
   "cell_type": "markdown",
   "metadata": {},
   "source": [
    "Ahora hago lo mismo que antes pero me quedo con sus victorias de visitante."
   ]
  },
  {
   "cell_type": "code",
   "execution_count": 35,
   "metadata": {
    "collapsed": false
   },
   "outputs": [
    {
     "data": {
      "text/plain": [
       "41"
      ]
     },
     "execution_count": 35,
     "metadata": {},
     "output_type": "execute_result"
    }
   ],
   "source": [
    "partidos_enero_visitante_cleveland = partidos_enero.filter(lambda x: x[5] == 'Cleveland Cavaliers').filter(lambda x: int(x[6]) > int(x[8]))\n",
    "partidos_enero_visitante_cleveland.count()"
   ]
  },
  {
   "cell_type": "markdown",
   "metadata": {},
   "source": [
    "Como local en enero ha ganado un total de 37 partidos entre 2007 y 2017 y, como visitante 56. Es decir, en estos 11 años ha ganado 93 partidos en enero."
   ]
  },
  {
   "cell_type": "markdown",
   "metadata": {},
   "source": [
    "## Octava pregunta: ¿Los Warrios son mejores fuera de casa o en casa?"
   ]
  },
  {
   "cell_type": "markdown",
   "metadata": {},
   "source": [
    "Creo un filtro para qudarme con los Warriors como locales y sólo aquellos partidos ganados."
   ]
  },
  {
   "cell_type": "code",
   "execution_count": 36,
   "metadata": {
    "collapsed": false
   },
   "outputs": [
    {
     "data": {
      "text/plain": [
       "308"
      ]
     },
     "execution_count": 36,
     "metadata": {},
     "output_type": "execute_result"
    }
   ],
   "source": [
    "partidos_warriors_casa_victorias = liga_parsed.filter(lambda x: x[7] == 'Golden State Warriors').filter(lambda x: int(x[8]) > int(x[6]))\n",
    "partidos_warriors_casa_victorias.count()"
   ]
  },
  {
   "cell_type": "markdown",
   "metadata": {},
   "source": [
    "Hago lo mismo pero para visitante."
   ]
  },
  {
   "cell_type": "code",
   "execution_count": 37,
   "metadata": {
    "collapsed": false
   },
   "outputs": [
    {
     "data": {
      "text/plain": [
       "215"
      ]
     },
     "execution_count": 37,
     "metadata": {},
     "output_type": "execute_result"
    }
   ],
   "source": [
    "partidos_warriors_fuera_victorias = liga_parsed.filter(lambda x: x[5] == 'Golden State Warriors').filter(lambda x: int(x[6]) > int(x[8]))\n",
    "partidos_warriors_fuera_victorias.count()"
   ]
  },
  {
   "cell_type": "markdown",
   "metadata": {},
   "source": [
    "Fueron mejores fuera de casa"
   ]
  },
  {
   "cell_type": "markdown",
   "metadata": {},
   "source": [
    "## Novena pregunta: Equipo que ha quedado primerio en victorias más temporadas. (si es que hay alguno que más)"
   ]
  },
  {
   "cell_type": "markdown",
   "metadata": {},
   "source": [
    "Filtro para quedarme solo con las victorias de los locales y hago la suma de victorias por equipo."
   ]
  },
  {
   "cell_type": "code",
   "execution_count": 38,
   "metadata": {
    "collapsed": false
   },
   "outputs": [
    {
     "data": {
      "text/plain": [
       "[(('2013', 'Los Angeles Clippers'), 32),\n",
       " (('2013', 'Indiana Pacers'), 43),\n",
       " (('2012', 'Minnesota Timberwolves'), 22),\n",
       " (('2007', 'Atlanta Hawks'), 10),\n",
       " (('2007', 'Sacramento Kings'), 8),\n",
       " (('2017', 'Dallas Mavericks'), 15),\n",
       " (('2016', 'Brooklyn Nets'), 15),\n",
       " (('2007', 'Dallas Mavericks'), 14),\n",
       " (('2010', 'San Antonio Spurs'), 36),\n",
       " (('2011', 'New Orleans Hornets'), 17),\n",
       " (('2013', 'Portland Trail Blazers'), 23),\n",
       " (('2012', 'Cleveland Cavaliers'), 14),\n",
       " (('2014', 'Indiana Pacers'), 32),\n",
       " (('2014', 'Milwaukee Bucks'), 14),\n",
       " (('2010', 'Portland Trail Blazers'), 26),\n",
       " (('2010', 'New Orleans Hornets'), 25),\n",
       " (('2011', 'Boston Celtics'), 24),\n",
       " (('2007', 'San Antonio Spurs'), 16),\n",
       " (('2008', 'Memphis Grizzlies'), 17),\n",
       " (('2010', 'Indiana Pacers'), 26),\n",
       " (('2009', 'Chicago Bulls'), 30),\n",
       " (('2010', 'Cleveland Cavaliers'), 31),\n",
       " (('2010', 'Boston Celtics'), 36),\n",
       " (('2007', 'Orlando Magic'), 7),\n",
       " (('2016', 'Dallas Mavericks'), 19),\n",
       " (('2017', 'Phoenix Suns'), 9),\n",
       " (('2014', 'Oklahoma City Thunder'), 35),\n",
       " (('2010', 'Denver Nuggets'), 36),\n",
       " (('2007', 'Indiana Pacers'), 7),\n",
       " (('2007', 'New Jersey Nets'), 7),\n",
       " (('2013', 'Atlanta Hawks'), 28),\n",
       " (('2013', 'Boston Celtics'), 27),\n",
       " (('2008', 'Oklahoma City Thunder'), 3),\n",
       " (('2010', 'Golden State Warriors'), 20),\n",
       " (('2009', 'Detroit Pistons'), 18),\n",
       " (('2012', 'Detroit Pistons'), 25),\n",
       " (('2007', 'Seattle SuperSonics'), 5),\n",
       " (('2007', 'Denver Nuggets'), 12),\n",
       " (('2016', 'New Orleans Pelicans'), 24),\n",
       " (('2012', 'Orlando Magic'), 26),\n",
       " (('2012', 'Memphis Grizzlies'), 40),\n",
       " (('2014', 'Golden State Warriors'), 30),\n",
       " (('2009', 'Minnesota Timberwolves'), 12),\n",
       " (('2012', 'New Orleans Hornets'), 13),\n",
       " (('2013', 'New York Knicks'), 27),\n",
       " (('2009', 'New Jersey Nets'), 16),\n",
       " (('2012', 'Atlanta Hawks'), 34),\n",
       " (('2017', 'Detroit Pistons'), 15),\n",
       " (('2017', 'San Antonio Spurs'), 25),\n",
       " (('2014', 'Washington Wizards'), 30),\n",
       " (('2012', 'Chicago Bulls'), 37),\n",
       " (('2012', 'Los Angeles Lakers'), 37),\n",
       " (('2014', 'Minnesota Timberwolves'), 18),\n",
       " (('2013', 'Orlando Magic'), 12),\n",
       " (('2013', 'Washington Wizards'), 26),\n",
       " (('2007', 'Cleveland Cavaliers'), 8),\n",
       " (('2010', 'New Jersey Nets'), 12),\n",
       " (('2016', 'Charlotte Hornets'), 30),\n",
       " (('2014', 'New York Knicks'), 18),\n",
       " (('2015', 'Dallas Mavericks'), 25),\n",
       " (('2011', 'New York Knicks'), 16),\n",
       " (('2012', 'San Antonio Spurs'), 44),\n",
       " (('2016', 'Phoenix Suns'), 12),\n",
       " (('2013', 'Los Angeles Lakers'), 26),\n",
       " (('2011', 'Oklahoma City Thunder'), 26),\n",
       " (('2010', 'New York Knicks'), 19),\n",
       " (('2008', 'Atlanta Hawks'), 32),\n",
       " (('2013', 'Denver Nuggets'), 38),\n",
       " (('2007', 'Portland Trail Blazers'), 15),\n",
       " (('2014', 'Atlanta Hawks'), 27),\n",
       " (('2012', 'Indiana Pacers'), 34),\n",
       " (('2012', 'Milwaukee Bucks'), 24),\n",
       " (('2007', 'New York Knicks'), 7),\n",
       " (('2008', 'Portland Trail Blazers'), 25),\n",
       " (('2011', 'Golden State Warriors'), 20),\n",
       " (('2017', 'Orlando Magic'), 9),\n",
       " (('2009', 'Los Angeles Lakers'), 47),\n",
       " (('2013', 'Houston Rockets'), 31),\n",
       " (('2010', 'Houston Rockets'), 23),\n",
       " (('2009', 'Milwaukee Bucks'), 23),\n",
       " (('2012', 'Dallas Mavericks'), 30),\n",
       " (('2007', 'Memphis Grizzlies'), 5),\n",
       " (('2010', 'Phoenix Suns'), 33),\n",
       " (('2010', 'Detroit Pistons'), 17),\n",
       " (('2008', 'New Orleans Hornets'), 38),\n",
       " (('2009', 'Washington Wizards'), 14),\n",
       " (('2010', 'Memphis Grizzlies'), 22),\n",
       " (('2007', 'Los Angeles Lakers'), 11),\n",
       " (('2008', 'Milwaukee Bucks'), 18),\n",
       " (('2008', 'Boston Celtics'), 51),\n",
       " (('2015', 'Miami Heat'), 27),\n",
       " (('2016', 'Philadelphia 76ers'), 11),\n",
       " (('2016', 'Toronto Raptors'), 41),\n",
       " (('2015', 'Oklahoma City Thunder'), 36),\n",
       " (('2007', 'Toronto Raptors'), 8),\n",
       " (('2014', 'Memphis Grizzlies'), 34),\n",
       " (('2014', 'Boston Celtics'), 16),\n",
       " (('2008', 'Denver Nuggets'), 32),\n",
       " (('2010', 'Los Angeles Lakers'), 39),\n",
       " (('2013', 'Chicago Bulls'), 24),\n",
       " (('2014', 'Los Angeles Clippers'), 39),\n",
       " (('2010', 'Oklahoma City Thunder'), 33),\n",
       " (('2015', 'Denver Nuggets'), 15),\n",
       " (('2008', 'Golden State Warriors'), 25),\n",
       " (('2008', 'New Jersey Nets'), 19),\n",
       " (('2015', 'Los Angeles Lakers'), 10),\n",
       " (('2017', 'Brooklyn Nets'), 6),\n",
       " (('2010', 'Los Angeles Clippers'), 19),\n",
       " (('2008', 'Toronto Raptors'), 23),\n",
       " (('2007', 'Philadelphia 76ers'), 7),\n",
       " (('2011', 'Orlando Magic'), 21),\n",
       " (('2012', 'New York Knicks'), 34),\n",
       " (('2007', 'Washington Wizards'), 9),\n",
       " (('2015', 'Washington Wizards'), 25),\n",
       " (('2016', 'Utah Jazz'), 27),\n",
       " (('2007', 'Miami Heat'), 4),\n",
       " (('2011', 'Detroit Pistons'), 14),\n",
       " (('2009', 'Utah Jazz'), 34),\n",
       " (('2010', 'Washington Wizards'), 18),\n",
       " (('2015', 'New York Knicks'), 15),\n",
       " (('2014', 'Portland Trail Blazers'), 37),\n",
       " (('2008', 'Orlando Magic'), 35),\n",
       " (('2017', 'Indiana Pacers'), 17),\n",
       " (('2017', 'Milwaukee Bucks'), 14),\n",
       " (('2016', 'Oklahoma City Thunder'), 35),\n",
       " (('2011', 'Washington Wizards'), 12),\n",
       " (('2012', 'Portland Trail Blazers'), 28),\n",
       " (('2013', 'San Antonio Spurs'), 42),\n",
       " (('2008', 'New York Knicks'), 15),\n",
       " (('2014', 'New Orleans Pelicans'), 23),\n",
       " (('2012', 'Utah Jazz'), 33),\n",
       " (('2017', 'Cleveland Cavaliers'), 20),\n",
       " (('2015', 'Atlanta Hawks'), 38),\n",
       " (('2013', 'Brooklyn Nets'), 23),\n",
       " (('2011', 'Los Angeles Lakers'), 24),\n",
       " (('2013', 'Phoenix Suns'), 19),\n",
       " (('2010', 'Milwaukee Bucks'), 28),\n",
       " (('2013', 'Memphis Grizzlies'), 31),\n",
       " (('2009', 'Cleveland Cavaliers'), 42),\n",
       " (('2011', 'Sacramento Kings'), 8),\n",
       " (('2016', 'Washington Wizards'), 28),\n",
       " (('2009', 'Toronto Raptors'), 24),\n",
       " (('2014', 'Houston Rockets'), 32),\n",
       " (('2012', 'Boston Celtics'), 40),\n",
       " (('2008', 'Charlotte Bobcats'), 19),\n",
       " (('2010', 'Sacramento Kings'), 11),\n",
       " (('2007', 'New Orleans Hornets'), 9),\n",
       " (('2013', 'New Orleans Hornets'), 13),\n",
       " (('2017', 'Oklahoma City Thunder'), 16),\n",
       " (('2014', 'Charlotte Bobcats'), 17),\n",
       " (('2012', 'Miami Heat'), 52),\n",
       " (('2016', 'Los Angeles Lakers'), 17),\n",
       " (('2010', 'Charlotte Bobcats'), 28),\n",
       " (('2014', 'Sacramento Kings'), 19),\n",
       " (('2015', 'Memphis Grizzlies'), 33),\n",
       " (('2008', 'Utah Jazz'), 42),\n",
       " (('2015', 'Houston Rockets'), 36),\n",
       " (('2008', 'Los Angeles Lakers'), 45),\n",
       " (('2015', 'Los Angeles Clippers'), 30),\n",
       " (('2008', 'Cleveland Cavaliers'), 40),\n",
       " (('2017', 'Chicago Bulls'), 15),\n",
       " (('2014', 'Los Angeles Lakers'), 11),\n",
       " (('2011', 'Milwaukee Bucks'), 17),\n",
       " (('2017', 'Philadelphia 76ers'), 12),\n",
       " (('2009', 'Phoenix Suns'), 32),\n",
       " (('2010', 'Dallas Mavericks'), 32),\n",
       " (('2008', 'Philadelphia 76ers'), 23),\n",
       " (('2008', 'Chicago Bulls'), 24),\n",
       " (('2016', 'Golden State Warriors'), 49),\n",
       " (('2012', 'Washington Wizards'), 14),\n",
       " (('2015', 'Portland Trail Blazers'), 26),\n",
       " (('2014', 'Orlando Magic'), 16),\n",
       " (('2016', 'Cleveland Cavaliers'), 46),\n",
       " (('2008', 'Washington Wizards'), 21),\n",
       " (('2007', 'Milwaukee Bucks'), 9),\n",
       " (('2017', 'Minnesota Timberwolves'), 14),\n",
       " (('2013', 'Golden State Warriors'), 33),\n",
       " (('2010', 'Orlando Magic'), 38),\n",
       " (('2009', 'Sacramento Kings'), 16),\n",
       " (('2013', 'Miami Heat'), 47),\n",
       " (('2007', 'Boston Celtics'), 14),\n",
       " (('2011', 'Cleveland Cavaliers'), 7),\n",
       " (('2016', 'Detroit Pistons'), 24),\n",
       " (('2008', 'San Antonio Spurs'), 37),\n",
       " (('2011', 'Denver Nuggets'), 22),\n",
       " (('2015', 'Phoenix Suns'), 23),\n",
       " (('2015', 'Utah Jazz'), 24),\n",
       " (('2017', 'Charlotte Hornets'), 11),\n",
       " (('2012', 'Houston Rockets'), 32),\n",
       " (('2015', 'Charlotte Hornets'), 25),\n",
       " (('2013', 'Oklahoma City Thunder'), 35),\n",
       " (('2013', 'Cleveland Cavaliers'), 19),\n",
       " (('2011', 'Phoenix Suns'), 15),\n",
       " (('2013', 'Utah Jazz'), 26),\n",
       " (('2011', 'Utah Jazz'), 11),\n",
       " (('2012', 'Phoenix Suns'), 28),\n",
       " (('2008', 'Detroit Pistons'), 38),\n",
       " (('2011', 'Portland Trail Blazers'), 24),\n",
       " (('2008', 'Miami Heat'), 16),\n",
       " (('2009', 'Charlotte Bobcats'), 26),\n",
       " (('2007', 'Golden State Warriors'), 8),\n",
       " (('2008', 'Seattle SuperSonics'), 8),\n",
       " (('2008', 'Sacramento Kings'), 24),\n",
       " (('2011', 'Charlotte Bobcats'), 14),\n",
       " (('2012', 'Charlotte Bobcats'), 8),\n",
       " (('2015', 'Detroit Pistons'), 26),\n",
       " (('2015', 'San Antonio Spurs'), 42),\n",
       " (('2015', 'New Orleans Pelicans'), 25),\n",
       " (('2011', 'Philadelphia 76ers'), 19),\n",
       " (('2015', 'Sacramento Kings'), 18),\n",
       " (('2017', 'Miami Heat'), 18),\n",
       " (('2012', 'Philadelphia 76ers'), 33),\n",
       " (('2010', 'Utah Jazz'), 34),\n",
       " (('2009', 'Los Angeles Clippers'), 17),\n",
       " (('2011', 'Chicago Bulls'), 29),\n",
       " (('2014', 'Toronto Raptors'), 37),\n",
       " (('2011', 'Indiana Pacers'), 18),\n",
       " (('2016', 'Memphis Grizzlies'), 28),\n",
       " (('2016', 'Portland Trail Blazers'), 33),\n",
       " (('2007', 'Utah Jazz'), 11),\n",
       " (('2008', 'Minnesota Timberwolves'), 15),\n",
       " (('2009', 'Miami Heat'), 29),\n",
       " (('2014', 'Cleveland Cavaliers'), 22),\n",
       " (('2010', 'Toronto Raptors'), 21),\n",
       " (('2014', 'Detroit Pistons'), 14),\n",
       " (('2008', 'Dallas Mavericks'), 30),\n",
       " (('2009', 'Memphis Grizzlies'), 18),\n",
       " (('2011', 'Dallas Mavericks'), 26),\n",
       " (('2014', 'Utah Jazz'), 17),\n",
       " (('2008', 'Houston Rockets'), 36),\n",
       " (('2014', 'Dallas Mavericks'), 30),\n",
       " (('2015', 'Orlando Magic'), 21),\n",
       " (('2009', 'San Antonio Spurs'), 31),\n",
       " (('2013', 'Dallas Mavericks'), 27),\n",
       " (('2013', 'Detroit Pistons'), 16),\n",
       " (('2007', 'Phoenix Suns'), 9),\n",
       " (('2013', 'Milwaukee Bucks'), 15),\n",
       " (('2016', 'Los Angeles Clippers'), 32),\n",
       " (('2014', 'Denver Nuggets'), 24),\n",
       " (('2016', 'Indiana Pacers'), 29),\n",
       " (('2017', 'Portland Trail Blazers'), 16),\n",
       " (('2011', 'Memphis Grizzlies'), 27),\n",
       " (('2016', 'Boston Celtics'), 29),\n",
       " (('2017', 'Houston Rockets'), 21),\n",
       " (('2011', 'Los Angeles Clippers'), 16),\n",
       " (('2011', 'Toronto Raptors'), 9),\n",
       " (('2011', 'San Antonio Spurs'), 23),\n",
       " (('2009', 'Denver Nuggets'), 42),\n",
       " (('2017', 'Utah Jazz'), 18),\n",
       " (('2007', 'Charlotte Bobcats'), 10),\n",
       " (('2011', 'New Jersey Nets'), 13),\n",
       " (('2014', 'Phoenix Suns'), 22),\n",
       " (('2012', 'New Jersey Nets'), 9),\n",
       " (('2009', 'Houston Rockets'), 37),\n",
       " (('2010', 'Chicago Bulls'), 28),\n",
       " (('2014', 'Charlotte Hornets'), 7),\n",
       " (('2017', 'Golden State Warriors'), 31),\n",
       " (('2010', 'Philadelphia 76ers'), 16),\n",
       " (('2015', 'Boston Celtics'), 22),\n",
       " (('2017', 'Denver Nuggets'), 15),\n",
       " (('2014', 'Miami Heat'), 32),\n",
       " (('2009', 'Orlando Magic'), 40),\n",
       " (('2014', 'Chicago Bulls'), 28),\n",
       " (('2012', 'Sacramento Kings'), 25),\n",
       " (('2015', 'Brooklyn Nets'), 19),\n",
       " (('2009', 'Oklahoma City Thunder'), 21),\n",
       " (('2017', 'Los Angeles Lakers'), 10),\n",
       " (('2014', 'Philadelphia 76ers'), 3),\n",
       " (('2017', 'Boston Celtics'), 27),\n",
       " (('2010', 'Miami Heat'), 28),\n",
       " (('2007', 'Chicago Bulls'), 6),\n",
       " (('2016', 'Atlanta Hawks'), 27),\n",
       " (('2013', 'Minnesota Timberwolves'), 20),\n",
       " (('2012', 'Oklahoma City Thunder'), 48),\n",
       " (('2014', 'San Antonio Spurs'), 42),\n",
       " (('2017', 'Washington Wizards'), 23),\n",
       " (('2007', 'Los Angeles Clippers'), 5),\n",
       " (('2011', 'Houston Rockets'), 17),\n",
       " (('2013', 'Sacramento Kings'), 16),\n",
       " (('2013', 'Toronto Raptors'), 19),\n",
       " (('2013', 'New Orleans Pelicans'), 9),\n",
       " (('2013', 'Charlotte Bobcats'), 18),\n",
       " (('2017', 'New Orleans Pelicans'), 11),\n",
       " (('2009', 'Golden State Warriors'), 21),\n",
       " (('2017', 'New York Knicks'), 8),\n",
       " (('2009', 'Atlanta Hawks'), 32),\n",
       " (('2016', 'New York Knicks'), 21),\n",
       " (('2015', 'Indiana Pacers'), 27),\n",
       " (('2015', 'Milwaukee Bucks'), 26),\n",
       " (('2011', 'Minnesota Timberwolves'), 6),\n",
       " (('2008', 'Los Angeles Clippers'), 11),\n",
       " (('2017', 'Sacramento Kings'), 10),\n",
       " (('2008', 'Indiana Pacers'), 20),\n",
       " (('2016', 'Orlando Magic'), 18),\n",
       " (('2012', 'Brooklyn Nets'), 11),\n",
       " (('2011', 'Atlanta Hawks'), 18),\n",
       " (('2015', 'Cleveland Cavaliers'), 40),\n",
       " (('2017', 'Atlanta Hawks'), 16),\n",
       " (('2016', 'Sacramento Kings'), 17),\n",
       " (('2016', 'Milwaukee Bucks'), 24),\n",
       " (('2016', 'Houston Rockets'), 27),\n",
       " (('2016', 'Minnesota Timberwolves'), 15),\n",
       " (('2007', 'Minnesota Timberwolves'), 3),\n",
       " (('2013', 'Philadelphia 76ers'), 21),\n",
       " (('2009', 'New York Knicks'), 20),\n",
       " (('2016', 'Denver Nuggets'), 20),\n",
       " (('2015', 'Chicago Bulls'), 35),\n",
       " (('2011', 'Miami Heat'), 27),\n",
       " (('2009', 'Boston Celtics'), 33),\n",
       " (('2015', 'Golden State Warriors'), 51),\n",
       " (('2009', 'Indiana Pacers'), 25),\n",
       " (('2016', 'Chicago Bulls'), 23),\n",
       " (('2008', 'Phoenix Suns'), 31),\n",
       " (('2012', 'Los Angeles Clippers'), 41),\n",
       " (('2015', 'Toronto Raptors'), 23),\n",
       " (('2009', 'New Orleans Hornets'), 30),\n",
       " (('2015', 'Minnesota Timberwolves'), 11),\n",
       " (('2016', 'San Antonio Spurs'), 35),\n",
       " (('2017', 'Memphis Grizzlies'), 13),\n",
       " (('2012', 'Golden State Warriors'), 20),\n",
       " (('2009', 'Portland Trail Blazers'), 36),\n",
       " (('2007', 'Houston Rockets'), 7),\n",
       " (('2012', 'Toronto Raptors'), 20),\n",
       " (('2007', 'Detroit Pistons'), 13),\n",
       " (('2009', 'Philadelphia 76ers'), 22),\n",
       " (('2017', 'Los Angeles Clippers'), 19),\n",
       " (('2010', 'Minnesota Timberwolves'), 12),\n",
       " (('2012', 'Denver Nuggets'), 30),\n",
       " (('2017', 'Toronto Raptors'), 19),\n",
       " (('2016', 'Miami Heat'), 25),\n",
       " (('2014', 'Brooklyn Nets'), 33),\n",
       " (('2010', 'Atlanta Hawks'), 37),\n",
       " (('2009', 'Dallas Mavericks'), 37),\n",
       " (('2015', 'Philadelphia 76ers'), 13)]"
      ]
     },
     "execution_count": 38,
     "metadata": {},
     "output_type": "execute_result"
    }
   ],
   "source": [
    "mejor_local = liga_parsed.filter(lambda x: int(x[8]) > int(x[6])).map(lambda x: ((x[3],x[7]),1)).reduceByKey(lambda y,z: y + z)\n",
    "mejor_local.collect()"
   ]
  },
  {
   "cell_type": "markdown",
   "metadata": {},
   "source": [
    "Ordeno de mayor número de victorias a menor y obtengo los resultados."
   ]
  },
  {
   "cell_type": "code",
   "execution_count": 39,
   "metadata": {
    "collapsed": false
   },
   "outputs": [
    {
     "data": {
      "text/plain": [
       "[(('2012', 'Miami Heat'), 52),\n",
       " (('2008', 'Boston Celtics'), 51),\n",
       " (('2015', 'Golden State Warriors'), 51),\n",
       " (('2016', 'Golden State Warriors'), 49),\n",
       " (('2012', 'Oklahoma City Thunder'), 48),\n",
       " (('2009', 'Los Angeles Lakers'), 47),\n",
       " (('2013', 'Miami Heat'), 47),\n",
       " (('2016', 'Cleveland Cavaliers'), 46),\n",
       " (('2008', 'Los Angeles Lakers'), 45),\n",
       " (('2012', 'San Antonio Spurs'), 44),\n",
       " (('2013', 'Indiana Pacers'), 43),\n",
       " (('2013', 'San Antonio Spurs'), 42),\n",
       " (('2009', 'Cleveland Cavaliers'), 42),\n",
       " (('2008', 'Utah Jazz'), 42),\n",
       " (('2015', 'San Antonio Spurs'), 42),\n",
       " (('2009', 'Denver Nuggets'), 42),\n",
       " (('2014', 'San Antonio Spurs'), 42),\n",
       " (('2016', 'Toronto Raptors'), 41),\n",
       " (('2012', 'Los Angeles Clippers'), 41),\n",
       " (('2012', 'Memphis Grizzlies'), 40),\n",
       " (('2012', 'Boston Celtics'), 40),\n",
       " (('2008', 'Cleveland Cavaliers'), 40),\n",
       " (('2009', 'Orlando Magic'), 40),\n",
       " (('2015', 'Cleveland Cavaliers'), 40),\n",
       " (('2010', 'Los Angeles Lakers'), 39),\n",
       " (('2014', 'Los Angeles Clippers'), 39),\n",
       " (('2013', 'Denver Nuggets'), 38),\n",
       " (('2008', 'New Orleans Hornets'), 38),\n",
       " (('2015', 'Atlanta Hawks'), 38),\n",
       " (('2010', 'Orlando Magic'), 38),\n",
       " (('2008', 'Detroit Pistons'), 38),\n",
       " (('2012', 'Chicago Bulls'), 37),\n",
       " (('2012', 'Los Angeles Lakers'), 37),\n",
       " (('2014', 'Portland Trail Blazers'), 37),\n",
       " (('2008', 'San Antonio Spurs'), 37),\n",
       " (('2014', 'Toronto Raptors'), 37),\n",
       " (('2009', 'Houston Rockets'), 37),\n",
       " (('2010', 'Atlanta Hawks'), 37),\n",
       " (('2009', 'Dallas Mavericks'), 37),\n",
       " (('2010', 'San Antonio Spurs'), 36),\n",
       " (('2010', 'Boston Celtics'), 36),\n",
       " (('2010', 'Denver Nuggets'), 36),\n",
       " (('2015', 'Oklahoma City Thunder'), 36),\n",
       " (('2015', 'Houston Rockets'), 36),\n",
       " (('2008', 'Houston Rockets'), 36),\n",
       " (('2009', 'Portland Trail Blazers'), 36),\n",
       " (('2014', 'Oklahoma City Thunder'), 35),\n",
       " (('2008', 'Orlando Magic'), 35),\n",
       " (('2016', 'Oklahoma City Thunder'), 35),\n",
       " (('2013', 'Oklahoma City Thunder'), 35),\n",
       " (('2015', 'Chicago Bulls'), 35),\n",
       " (('2016', 'San Antonio Spurs'), 35),\n",
       " (('2012', 'Atlanta Hawks'), 34),\n",
       " (('2012', 'Indiana Pacers'), 34),\n",
       " (('2014', 'Memphis Grizzlies'), 34),\n",
       " (('2012', 'New York Knicks'), 34),\n",
       " (('2009', 'Utah Jazz'), 34),\n",
       " (('2010', 'Utah Jazz'), 34),\n",
       " (('2010', 'Phoenix Suns'), 33),\n",
       " (('2010', 'Oklahoma City Thunder'), 33),\n",
       " (('2012', 'Utah Jazz'), 33),\n",
       " (('2015', 'Memphis Grizzlies'), 33),\n",
       " (('2013', 'Golden State Warriors'), 33),\n",
       " (('2012', 'Philadelphia 76ers'), 33),\n",
       " (('2016', 'Portland Trail Blazers'), 33),\n",
       " (('2009', 'Boston Celtics'), 33),\n",
       " (('2014', 'Brooklyn Nets'), 33),\n",
       " (('2013', 'Los Angeles Clippers'), 32),\n",
       " (('2014', 'Indiana Pacers'), 32),\n",
       " (('2008', 'Atlanta Hawks'), 32),\n",
       " (('2008', 'Denver Nuggets'), 32),\n",
       " (('2014', 'Houston Rockets'), 32),\n",
       " (('2009', 'Phoenix Suns'), 32),\n",
       " (('2010', 'Dallas Mavericks'), 32),\n",
       " (('2012', 'Houston Rockets'), 32),\n",
       " (('2016', 'Los Angeles Clippers'), 32),\n",
       " (('2014', 'Miami Heat'), 32),\n",
       " (('2009', 'Atlanta Hawks'), 32),\n",
       " (('2010', 'Cleveland Cavaliers'), 31),\n",
       " (('2013', 'Houston Rockets'), 31),\n",
       " (('2013', 'Memphis Grizzlies'), 31),\n",
       " (('2009', 'San Antonio Spurs'), 31),\n",
       " (('2017', 'Golden State Warriors'), 31),\n",
       " (('2008', 'Phoenix Suns'), 31),\n",
       " (('2009', 'Chicago Bulls'), 30),\n",
       " (('2014', 'Golden State Warriors'), 30),\n",
       " (('2014', 'Washington Wizards'), 30),\n",
       " (('2016', 'Charlotte Hornets'), 30),\n",
       " (('2012', 'Dallas Mavericks'), 30),\n",
       " (('2015', 'Los Angeles Clippers'), 30),\n",
       " (('2008', 'Dallas Mavericks'), 30),\n",
       " (('2014', 'Dallas Mavericks'), 30),\n",
       " (('2009', 'New Orleans Hornets'), 30),\n",
       " (('2012', 'Denver Nuggets'), 30),\n",
       " (('2011', 'Chicago Bulls'), 29),\n",
       " (('2009', 'Miami Heat'), 29),\n",
       " (('2016', 'Indiana Pacers'), 29),\n",
       " (('2016', 'Boston Celtics'), 29),\n",
       " (('2013', 'Atlanta Hawks'), 28),\n",
       " (('2012', 'Portland Trail Blazers'), 28),\n",
       " (('2010', 'Milwaukee Bucks'), 28),\n",
       " (('2016', 'Washington Wizards'), 28),\n",
       " (('2010', 'Charlotte Bobcats'), 28),\n",
       " (('2012', 'Phoenix Suns'), 28),\n",
       " (('2016', 'Memphis Grizzlies'), 28),\n",
       " (('2010', 'Chicago Bulls'), 28),\n",
       " (('2014', 'Chicago Bulls'), 28),\n",
       " (('2010', 'Miami Heat'), 28),\n",
       " (('2013', 'Boston Celtics'), 27),\n",
       " (('2013', 'New York Knicks'), 27),\n",
       " (('2014', 'Atlanta Hawks'), 27),\n",
       " (('2015', 'Miami Heat'), 27),\n",
       " (('2016', 'Utah Jazz'), 27),\n",
       " (('2013', 'Dallas Mavericks'), 27),\n",
       " (('2011', 'Memphis Grizzlies'), 27),\n",
       " (('2017', 'Boston Celtics'), 27),\n",
       " (('2016', 'Atlanta Hawks'), 27),\n",
       " (('2015', 'Indiana Pacers'), 27),\n",
       " (('2016', 'Houston Rockets'), 27),\n",
       " (('2011', 'Miami Heat'), 27),\n",
       " (('2010', 'Portland Trail Blazers'), 26),\n",
       " (('2010', 'Indiana Pacers'), 26),\n",
       " (('2012', 'Orlando Magic'), 26),\n",
       " (('2013', 'Washington Wizards'), 26),\n",
       " (('2013', 'Los Angeles Lakers'), 26),\n",
       " (('2011', 'Oklahoma City Thunder'), 26),\n",
       " (('2015', 'Portland Trail Blazers'), 26),\n",
       " (('2013', 'Utah Jazz'), 26),\n",
       " (('2009', 'Charlotte Bobcats'), 26),\n",
       " (('2015', 'Detroit Pistons'), 26),\n",
       " (('2011', 'Dallas Mavericks'), 26),\n",
       " (('2015', 'Milwaukee Bucks'), 26),\n",
       " (('2010', 'New Orleans Hornets'), 25),\n",
       " (('2012', 'Detroit Pistons'), 25),\n",
       " (('2017', 'San Antonio Spurs'), 25),\n",
       " (('2015', 'Dallas Mavericks'), 25),\n",
       " (('2008', 'Portland Trail Blazers'), 25),\n",
       " (('2008', 'Golden State Warriors'), 25),\n",
       " (('2015', 'Washington Wizards'), 25),\n",
       " (('2015', 'Charlotte Hornets'), 25),\n",
       " (('2015', 'New Orleans Pelicans'), 25),\n",
       " (('2012', 'Sacramento Kings'), 25),\n",
       " (('2009', 'Indiana Pacers'), 25),\n",
       " (('2016', 'Miami Heat'), 25),\n",
       " (('2011', 'Boston Celtics'), 24),\n",
       " (('2016', 'New Orleans Pelicans'), 24),\n",
       " (('2012', 'Milwaukee Bucks'), 24),\n",
       " (('2013', 'Chicago Bulls'), 24),\n",
       " (('2011', 'Los Angeles Lakers'), 24),\n",
       " (('2009', 'Toronto Raptors'), 24),\n",
       " (('2008', 'Chicago Bulls'), 24),\n",
       " (('2016', 'Detroit Pistons'), 24),\n",
       " (('2015', 'Utah Jazz'), 24),\n",
       " (('2011', 'Portland Trail Blazers'), 24),\n",
       " (('2008', 'Sacramento Kings'), 24),\n",
       " (('2014', 'Denver Nuggets'), 24),\n",
       " (('2016', 'Milwaukee Bucks'), 24),\n",
       " (('2013', 'Portland Trail Blazers'), 23),\n",
       " (('2010', 'Houston Rockets'), 23),\n",
       " (('2009', 'Milwaukee Bucks'), 23),\n",
       " (('2008', 'Toronto Raptors'), 23),\n",
       " (('2014', 'New Orleans Pelicans'), 23),\n",
       " (('2013', 'Brooklyn Nets'), 23),\n",
       " (('2008', 'Philadelphia 76ers'), 23),\n",
       " (('2015', 'Phoenix Suns'), 23),\n",
       " (('2011', 'San Antonio Spurs'), 23),\n",
       " (('2017', 'Washington Wizards'), 23),\n",
       " (('2016', 'Chicago Bulls'), 23),\n",
       " (('2015', 'Toronto Raptors'), 23),\n",
       " (('2012', 'Minnesota Timberwolves'), 22),\n",
       " (('2010', 'Memphis Grizzlies'), 22),\n",
       " (('2011', 'Denver Nuggets'), 22),\n",
       " (('2014', 'Cleveland Cavaliers'), 22),\n",
       " (('2014', 'Phoenix Suns'), 22),\n",
       " (('2015', 'Boston Celtics'), 22),\n",
       " (('2009', 'Philadelphia 76ers'), 22),\n",
       " (('2011', 'Orlando Magic'), 21),\n",
       " (('2008', 'Washington Wizards'), 21),\n",
       " (('2010', 'Toronto Raptors'), 21),\n",
       " (('2015', 'Orlando Magic'), 21),\n",
       " (('2017', 'Houston Rockets'), 21),\n",
       " (('2009', 'Oklahoma City Thunder'), 21),\n",
       " (('2009', 'Golden State Warriors'), 21),\n",
       " (('2016', 'New York Knicks'), 21),\n",
       " (('2013', 'Philadelphia 76ers'), 21),\n",
       " (('2010', 'Golden State Warriors'), 20),\n",
       " (('2011', 'Golden State Warriors'), 20),\n",
       " (('2017', 'Cleveland Cavaliers'), 20),\n",
       " (('2013', 'Minnesota Timberwolves'), 20),\n",
       " (('2008', 'Indiana Pacers'), 20),\n",
       " (('2009', 'New York Knicks'), 20),\n",
       " (('2016', 'Denver Nuggets'), 20),\n",
       " (('2012', 'Golden State Warriors'), 20),\n",
       " (('2012', 'Toronto Raptors'), 20),\n",
       " (('2016', 'Dallas Mavericks'), 19),\n",
       " (('2010', 'New York Knicks'), 19),\n",
       " (('2008', 'New Jersey Nets'), 19),\n",
       " (('2010', 'Los Angeles Clippers'), 19),\n",
       " (('2013', 'Phoenix Suns'), 19),\n",
       " (('2008', 'Charlotte Bobcats'), 19),\n",
       " (('2014', 'Sacramento Kings'), 19),\n",
       " (('2013', 'Cleveland Cavaliers'), 19),\n",
       " (('2011', 'Philadelphia 76ers'), 19),\n",
       " (('2015', 'Brooklyn Nets'), 19),\n",
       " (('2013', 'Toronto Raptors'), 19),\n",
       " (('2017', 'Los Angeles Clippers'), 19),\n",
       " (('2017', 'Toronto Raptors'), 19),\n",
       " (('2009', 'Detroit Pistons'), 18),\n",
       " (('2014', 'Minnesota Timberwolves'), 18),\n",
       " (('2014', 'New York Knicks'), 18),\n",
       " (('2008', 'Milwaukee Bucks'), 18),\n",
       " (('2010', 'Washington Wizards'), 18),\n",
       " (('2015', 'Sacramento Kings'), 18),\n",
       " (('2017', 'Miami Heat'), 18),\n",
       " (('2011', 'Indiana Pacers'), 18),\n",
       " (('2009', 'Memphis Grizzlies'), 18),\n",
       " (('2017', 'Utah Jazz'), 18),\n",
       " (('2013', 'Charlotte Bobcats'), 18),\n",
       " (('2016', 'Orlando Magic'), 18),\n",
       " (('2011', 'Atlanta Hawks'), 18),\n",
       " (('2011', 'New Orleans Hornets'), 17),\n",
       " (('2008', 'Memphis Grizzlies'), 17),\n",
       " (('2010', 'Detroit Pistons'), 17),\n",
       " (('2017', 'Indiana Pacers'), 17),\n",
       " (('2014', 'Charlotte Bobcats'), 17),\n",
       " (('2016', 'Los Angeles Lakers'), 17),\n",
       " (('2011', 'Milwaukee Bucks'), 17),\n",
       " (('2009', 'Los Angeles Clippers'), 17),\n",
       " (('2014', 'Utah Jazz'), 17),\n",
       " (('2011', 'Houston Rockets'), 17),\n",
       " (('2016', 'Sacramento Kings'), 17),\n",
       " (('2007', 'San Antonio Spurs'), 16),\n",
       " (('2009', 'New Jersey Nets'), 16),\n",
       " (('2011', 'New York Knicks'), 16),\n",
       " (('2014', 'Boston Celtics'), 16),\n",
       " (('2017', 'Oklahoma City Thunder'), 16),\n",
       " (('2014', 'Orlando Magic'), 16),\n",
       " (('2009', 'Sacramento Kings'), 16),\n",
       " (('2008', 'Miami Heat'), 16),\n",
       " (('2013', 'Detroit Pistons'), 16),\n",
       " (('2017', 'Portland Trail Blazers'), 16),\n",
       " (('2011', 'Los Angeles Clippers'), 16),\n",
       " (('2010', 'Philadelphia 76ers'), 16),\n",
       " (('2013', 'Sacramento Kings'), 16),\n",
       " (('2017', 'Atlanta Hawks'), 16),\n",
       " (('2017', 'Dallas Mavericks'), 15),\n",
       " (('2016', 'Brooklyn Nets'), 15),\n",
       " (('2017', 'Detroit Pistons'), 15),\n",
       " (('2007', 'Portland Trail Blazers'), 15),\n",
       " (('2015', 'Denver Nuggets'), 15),\n",
       " (('2015', 'New York Knicks'), 15),\n",
       " (('2008', 'New York Knicks'), 15),\n",
       " (('2017', 'Chicago Bulls'), 15),\n",
       " (('2011', 'Phoenix Suns'), 15),\n",
       " (('2008', 'Minnesota Timberwolves'), 15),\n",
       " (('2013', 'Milwaukee Bucks'), 15),\n",
       " (('2017', 'Denver Nuggets'), 15),\n",
       " (('2016', 'Minnesota Timberwolves'), 15),\n",
       " (('2007', 'Dallas Mavericks'), 14),\n",
       " (('2012', 'Cleveland Cavaliers'), 14),\n",
       " (('2014', 'Milwaukee Bucks'), 14),\n",
       " (('2009', 'Washington Wizards'), 14),\n",
       " (('2011', 'Detroit Pistons'), 14),\n",
       " (('2017', 'Milwaukee Bucks'), 14),\n",
       " (('2012', 'Washington Wizards'), 14),\n",
       " (('2017', 'Minnesota Timberwolves'), 14),\n",
       " (('2007', 'Boston Celtics'), 14),\n",
       " (('2011', 'Charlotte Bobcats'), 14),\n",
       " (('2014', 'Detroit Pistons'), 14),\n",
       " (('2012', 'New Orleans Hornets'), 13),\n",
       " (('2013', 'New Orleans Hornets'), 13),\n",
       " (('2011', 'New Jersey Nets'), 13),\n",
       " (('2017', 'Memphis Grizzlies'), 13),\n",
       " (('2007', 'Detroit Pistons'), 13),\n",
       " (('2015', 'Philadelphia 76ers'), 13),\n",
       " (('2007', 'Denver Nuggets'), 12),\n",
       " (('2009', 'Minnesota Timberwolves'), 12),\n",
       " (('2013', 'Orlando Magic'), 12),\n",
       " (('2010', 'New Jersey Nets'), 12),\n",
       " (('2016', 'Phoenix Suns'), 12),\n",
       " (('2011', 'Washington Wizards'), 12),\n",
       " (('2017', 'Philadelphia 76ers'), 12),\n",
       " (('2010', 'Minnesota Timberwolves'), 12),\n",
       " (('2007', 'Los Angeles Lakers'), 11),\n",
       " (('2016', 'Philadelphia 76ers'), 11),\n",
       " (('2010', 'Sacramento Kings'), 11),\n",
       " (('2014', 'Los Angeles Lakers'), 11),\n",
       " (('2017', 'Charlotte Hornets'), 11),\n",
       " (('2011', 'Utah Jazz'), 11),\n",
       " (('2007', 'Utah Jazz'), 11),\n",
       " (('2017', 'New Orleans Pelicans'), 11),\n",
       " (('2008', 'Los Angeles Clippers'), 11),\n",
       " (('2012', 'Brooklyn Nets'), 11),\n",
       " (('2015', 'Minnesota Timberwolves'), 11),\n",
       " (('2007', 'Atlanta Hawks'), 10),\n",
       " (('2015', 'Los Angeles Lakers'), 10),\n",
       " (('2007', 'Charlotte Bobcats'), 10),\n",
       " (('2017', 'Los Angeles Lakers'), 10),\n",
       " (('2017', 'Sacramento Kings'), 10),\n",
       " (('2017', 'Phoenix Suns'), 9),\n",
       " (('2017', 'Orlando Magic'), 9),\n",
       " (('2007', 'Washington Wizards'), 9),\n",
       " (('2007', 'New Orleans Hornets'), 9),\n",
       " (('2007', 'Milwaukee Bucks'), 9),\n",
       " (('2007', 'Phoenix Suns'), 9),\n",
       " (('2011', 'Toronto Raptors'), 9),\n",
       " (('2012', 'New Jersey Nets'), 9),\n",
       " (('2013', 'New Orleans Pelicans'), 9),\n",
       " (('2007', 'Sacramento Kings'), 8),\n",
       " (('2007', 'Cleveland Cavaliers'), 8),\n",
       " (('2007', 'Toronto Raptors'), 8),\n",
       " (('2011', 'Sacramento Kings'), 8),\n",
       " (('2007', 'Golden State Warriors'), 8),\n",
       " (('2008', 'Seattle SuperSonics'), 8),\n",
       " (('2012', 'Charlotte Bobcats'), 8),\n",
       " (('2017', 'New York Knicks'), 8),\n",
       " (('2007', 'Orlando Magic'), 7),\n",
       " (('2007', 'Indiana Pacers'), 7),\n",
       " (('2007', 'New Jersey Nets'), 7),\n",
       " (('2007', 'New York Knicks'), 7),\n",
       " (('2007', 'Philadelphia 76ers'), 7),\n",
       " (('2011', 'Cleveland Cavaliers'), 7),\n",
       " (('2014', 'Charlotte Hornets'), 7),\n",
       " (('2007', 'Houston Rockets'), 7),\n",
       " (('2017', 'Brooklyn Nets'), 6),\n",
       " (('2007', 'Chicago Bulls'), 6),\n",
       " (('2011', 'Minnesota Timberwolves'), 6),\n",
       " (('2007', 'Seattle SuperSonics'), 5),\n",
       " (('2007', 'Memphis Grizzlies'), 5),\n",
       " (('2007', 'Los Angeles Clippers'), 5),\n",
       " (('2007', 'Miami Heat'), 4),\n",
       " (('2008', 'Oklahoma City Thunder'), 3),\n",
       " (('2014', 'Philadelphia 76ers'), 3),\n",
       " (('2007', 'Minnesota Timberwolves'), 3)]"
      ]
     },
     "execution_count": 39,
     "metadata": {},
     "output_type": "execute_result"
    }
   ],
   "source": [
    "mejor_local.sortBy(lambda x: -x[1]).collect()"
   ]
  },
  {
   "cell_type": "markdown",
   "metadata": {},
   "source": [
    "Hago lo mismo que hice para local para visitante."
   ]
  },
  {
   "cell_type": "code",
   "execution_count": 40,
   "metadata": {
    "collapsed": false
   },
   "outputs": [
    {
     "data": {
      "text/plain": [
       "[(('2012', 'San Antonio Spurs'), 38),\n",
       " (('2016', 'Golden State Warriors'), 38),\n",
       " (('2013', 'Miami Heat'), 38),\n",
       " (('2015', 'Golden State Warriors'), 37),\n",
       " (('2016', 'San Antonio Spurs'), 37),\n",
       " (('2009', 'Los Angeles Lakers'), 34),\n",
       " (('2009', 'Cleveland Cavaliers'), 34),\n",
       " (('2008', 'Boston Celtics'), 33),\n",
       " (('2010', 'Los Angeles Lakers'), 32),\n",
       " (('2008', 'Los Angeles Lakers'), 32),\n",
       " (('2015', 'Los Angeles Clippers'), 32),\n",
       " (('2013', 'San Antonio Spurs'), 31),\n",
       " (('2016', 'Cleveland Cavaliers'), 31),\n",
       " (('2013', 'Oklahoma City Thunder'), 31),\n",
       " (('2014', 'Chicago Bulls'), 31),\n",
       " (('2012', 'Oklahoma City Thunder'), 31),\n",
       " (('2014', 'San Antonio Spurs'), 31),\n",
       " (('2009', 'Boston Celtics'), 31),\n",
       " (('2010', 'Boston Celtics'), 30),\n",
       " (('2009', 'Orlando Magic'), 30),\n",
       " (('2015', 'Cleveland Cavaliers'), 30),\n",
       " (('2014', 'Golden State Warriors'), 29),\n",
       " (('2012', 'Indiana Pacers'), 29),\n",
       " (('2014', 'Memphis Grizzlies'), 29),\n",
       " (('2016', 'Oklahoma City Thunder'), 29),\n",
       " (('2010', 'Orlando Magic'), 29),\n",
       " (('2010', 'Miami Heat'), 29),\n",
       " (('2014', 'Washington Wizards'), 28),\n",
       " (('2012', 'Chicago Bulls'), 28),\n",
       " (('2015', 'Atlanta Hawks'), 28),\n",
       " (('2010', 'San Antonio Spurs'), 27),\n",
       " (('2010', 'Dallas Mavericks'), 27),\n",
       " (('2016', 'Toronto Raptors'), 27),\n",
       " (('2013', 'Memphis Grizzlies'), 27),\n",
       " (('2012', 'Miami Heat'), 27),\n",
       " (('2014', 'Dallas Mavericks'), 27),\n",
       " (('2010', 'Utah Jazz'), 27),\n",
       " (('2008', 'Houston Rockets'), 27),\n",
       " (('2012', 'Los Angeles Clippers'), 27),\n",
       " (('2008', 'San Antonio Spurs'), 27),\n",
       " (('2008', 'Detroit Pistons'), 26),\n",
       " (('2012', 'Denver Nuggets'), 26),\n",
       " (('2014', 'Oklahoma City Thunder'), 25),\n",
       " (('2008', 'Orlando Magic'), 25),\n",
       " (('2014', 'Los Angeles Clippers'), 25),\n",
       " (('2014', 'Houston Rockets'), 25),\n",
       " (('2014', 'Phoenix Suns'), 25),\n",
       " (('2015', 'Boston Celtics'), 25),\n",
       " (('2014', 'Miami Heat'), 25),\n",
       " (('2016', 'Houston Rockets'), 25),\n",
       " (('2013', 'Indiana Pacers'), 24),\n",
       " (('2010', 'Phoenix Suns'), 24),\n",
       " (('2008', 'New Orleans Hornets'), 24),\n",
       " (('2010', 'Oklahoma City Thunder'), 24),\n",
       " (('2012', 'Atlanta Hawks'), 24),\n",
       " (('2008', 'Cleveland Cavaliers'), 24),\n",
       " (('2011', 'Dallas Mavericks'), 24),\n",
       " (('2015', 'San Antonio Spurs'), 24),\n",
       " (('2011', 'Chicago Bulls'), 24),\n",
       " (('2014', 'Toronto Raptors'), 24),\n",
       " (('2016', 'Los Angeles Clippers'), 24),\n",
       " (('2011', 'Miami Heat'), 24),\n",
       " (('2016', 'Charlotte Hornets'), 23),\n",
       " (('2013', 'Brooklyn Nets'), 23),\n",
       " (('2012', 'Boston Celtics'), 23),\n",
       " (('2015', 'Memphis Grizzlies'), 23),\n",
       " (('2015', 'Houston Rockets'), 23),\n",
       " (('2014', 'Portland Trail Blazers'), 23),\n",
       " (('2009', 'San Antonio Spurs'), 23),\n",
       " (('2016', 'Boston Celtics'), 23),\n",
       " (('2017', 'Golden State Warriors'), 23),\n",
       " (('2013', 'Los Angeles Clippers'), 22),\n",
       " (('2012', 'Memphis Grizzlies'), 22),\n",
       " (('2013', 'Chicago Bulls'), 22),\n",
       " (('2012', 'New York Knicks'), 22),\n",
       " (('2010', 'Portland Trail Blazers'), 22),\n",
       " (('2015', 'Dallas Mavericks'), 22),\n",
       " (('2009', 'Houston Rockets'), 22),\n",
       " (('2010', 'Chicago Bulls'), 22),\n",
       " (('2015', 'Toronto Raptors'), 22),\n",
       " (('2012', 'Golden State Warriors'), 22),\n",
       " (('2016', 'Miami Heat'), 22),\n",
       " (('2014', 'Indiana Pacers'), 21),\n",
       " (('2012', 'Orlando Magic'), 21),\n",
       " (('2013', 'New York Knicks'), 21),\n",
       " (('2012', 'Los Angeles Lakers'), 21),\n",
       " (('2012', 'Milwaukee Bucks'), 21),\n",
       " (('2008', 'Denver Nuggets'), 21),\n",
       " (('2010', 'Milwaukee Bucks'), 21),\n",
       " (('2008', 'Dallas Mavericks'), 21),\n",
       " (('2012', 'Philadelphia 76ers'), 21),\n",
       " (('2009', 'Denver Nuggets'), 21),\n",
       " (('2016', 'Atlanta Hawks'), 21),\n",
       " (('2008', 'Phoenix Suns'), 21),\n",
       " (('2009', 'Dallas Mavericks'), 21),\n",
       " (('2014', 'Brooklyn Nets'), 21),\n",
       " (('2009', 'Portland Trail Blazers'), 21),\n",
       " (('2013', 'Portland Trail Blazers'), 20),\n",
       " (('2011', 'Oklahoma City Thunder'), 20),\n",
       " (('2013', 'Houston Rockets'), 20),\n",
       " (('2016', 'Utah Jazz'), 20),\n",
       " (('2008', 'Utah Jazz'), 20),\n",
       " (('2013', 'Dallas Mavericks'), 20),\n",
       " (('2010', 'Atlanta Hawks'), 20),\n",
       " (('2014', 'Atlanta Hawks'), 19),\n",
       " (('2015', 'Washington Wizards'), 19),\n",
       " (('2017', 'Cleveland Cavaliers'), 19),\n",
       " (('2013', 'Golden State Warriors'), 19),\n",
       " (('2014', 'Cleveland Cavaliers'), 19),\n",
       " (('2009', 'Atlanta Hawks'), 19),\n",
       " (('2012', 'Minnesota Timberwolves'), 18),\n",
       " (('2010', 'Cleveland Cavaliers'), 18),\n",
       " (('2013', 'Denver Nuggets'), 18),\n",
       " (('2008', 'Portland Trail Blazers'), 18),\n",
       " (('2008', 'Philadelphia 76ers'), 18),\n",
       " (('2016', 'Memphis Grizzlies'), 18),\n",
       " (('2013', 'Toronto Raptors'), 18),\n",
       " (('2016', 'Sacramento Kings'), 18),\n",
       " (('2010', 'New Orleans Hornets'), 17),\n",
       " (('2010', 'Denver Nuggets'), 17),\n",
       " (('2017', 'San Antonio Spurs'), 17),\n",
       " (('2013', 'Los Angeles Lakers'), 17),\n",
       " (('2012', 'Dallas Mavericks'), 17),\n",
       " (('2010', 'Memphis Grizzlies'), 17),\n",
       " (('2012', 'Utah Jazz'), 17),\n",
       " (('2011', 'Los Angeles Lakers'), 17),\n",
       " (('2009', 'Phoenix Suns'), 17),\n",
       " (('2016', 'Detroit Pistons'), 17),\n",
       " (('2013', 'Atlanta Hawks'), 17),\n",
       " (('2015', 'Utah Jazz'), 17),\n",
       " (('2012', 'Houston Rockets'), 17),\n",
       " (('2016', 'Indiana Pacers'), 17),\n",
       " (('2017', 'Washington Wizards'), 17),\n",
       " (('2015', 'Indiana Pacers'), 17),\n",
       " (('2015', 'Chicago Bulls'), 17),\n",
       " (('2016', 'Chicago Bulls'), 17),\n",
       " (('2009', 'Philadelphia 76ers'), 17),\n",
       " (('2016', 'Portland Trail Blazers'), 16),\n",
       " (('2010', 'New York Knicks'), 16),\n",
       " (('2015', 'Oklahoma City Thunder'), 16),\n",
       " (('2008', 'New Jersey Nets'), 16),\n",
       " (('2015', 'Detroit Pistons'), 16),\n",
       " (('2009', 'Miami Heat'), 16),\n",
       " (('2013', 'Detroit Pistons'), 16),\n",
       " (('2017', 'Utah Jazz'), 16),\n",
       " (('2009', 'Oklahoma City Thunder'), 16),\n",
       " (('2007', 'Orlando Magic'), 15),\n",
       " (('2013', 'Boston Celtics'), 15),\n",
       " (('2014', 'New York Knicks'), 15),\n",
       " (('2010', 'Houston Rockets'), 15),\n",
       " (('2011', 'Orlando Magic'), 15),\n",
       " (('2016', 'Washington Wizards'), 15),\n",
       " (('2010', 'Charlotte Bobcats'), 15),\n",
       " (('2008', 'Washington Wizards'), 15),\n",
       " (('2015', 'Charlotte Hornets'), 15),\n",
       " (('2012', 'Phoenix Suns'), 15),\n",
       " (('2016', 'Dallas Mavericks'), 15),\n",
       " (('2011', 'San Antonio Spurs'), 15),\n",
       " (('2010', 'Philadelphia 76ers'), 15),\n",
       " (('2015', 'Brooklyn Nets'), 15),\n",
       " (('2017', 'Boston Celtics'), 15),\n",
       " (('2016', 'Denver Nuggets'), 15),\n",
       " (('2009', 'New Orleans Hornets'), 15),\n",
       " (('2011', 'New Orleans Hornets'), 14),\n",
       " (('2011', 'Boston Celtics'), 14),\n",
       " (('2015', 'Portland Trail Blazers'), 14),\n",
       " (('2008', 'Atlanta Hawks'), 14),\n",
       " (('2015', 'Miami Heat'), 14),\n",
       " (('2015', 'Denver Nuggets'), 14),\n",
       " (('2008', 'Toronto Raptors'), 14),\n",
       " (('2009', 'Utah Jazz'), 14),\n",
       " (('2017', 'Milwaukee Bucks'), 14),\n",
       " (('2013', 'Phoenix Suns'), 14),\n",
       " (('2015', 'New Orleans Pelicans'), 14),\n",
       " (('2010', 'Toronto Raptors'), 14),\n",
       " (('2013', 'Milwaukee Bucks'), 14),\n",
       " (('2017', 'Houston Rockets'), 14),\n",
       " (('2008', 'Golden State Warriors'), 14),\n",
       " (('2011', 'Atlanta Hawks'), 14),\n",
       " (('2017', 'Toronto Raptors'), 14),\n",
       " (('2012', 'Cleveland Cavaliers'), 13),\n",
       " (('2009', 'Chicago Bulls'), 13),\n",
       " (('2009', 'Detroit Pistons'), 13),\n",
       " (('2009', 'Minnesota Timberwolves'), 13),\n",
       " (('2012', 'New Orleans Hornets'), 13),\n",
       " (('2013', 'Washington Wizards'), 13),\n",
       " (('2014', 'New Orleans Pelicans'), 13),\n",
       " (('2009', 'Toronto Raptors'), 13),\n",
       " (('2014', 'Los Angeles Lakers'), 13),\n",
       " (('2011', 'Denver Nuggets'), 13),\n",
       " (('2008', 'Charlotte Bobcats'), 13),\n",
       " (('2017', 'Miami Heat'), 13),\n",
       " (('2007', 'Phoenix Suns'), 13),\n",
       " (('2011', 'Memphis Grizzlies'), 13),\n",
       " (('2015', 'Milwaukee Bucks'), 13),\n",
       " (('2016', 'Orlando Magic'), 13),\n",
       " (('2016', 'Minnesota Timberwolves'), 13),\n",
       " (('2012', 'Toronto Raptors'), 13),\n",
       " (('2017', 'Los Angeles Clippers'), 13),\n",
       " (('2007', 'Boston Celtics'), 12),\n",
       " (('2014', 'Minnesota Timberwolves'), 12),\n",
       " (('2008', 'Milwaukee Bucks'), 12),\n",
       " (('2012', 'New Jersey Nets'), 12),\n",
       " (('2015', 'New York Knicks'), 12),\n",
       " (('2012', 'Portland Trail Blazers'), 12),\n",
       " (('2008', 'New York Knicks'), 12),\n",
       " (('2014', 'Charlotte Bobcats'), 12),\n",
       " (('2014', 'Sacramento Kings'), 12),\n",
       " (('2017', 'Chicago Bulls'), 12),\n",
       " (('2008', 'Chicago Bulls'), 12),\n",
       " (('2011', 'Phoenix Suns'), 12),\n",
       " (('2013', 'Utah Jazz'), 12),\n",
       " (('2011', 'Philadelphia 76ers'), 12),\n",
       " (('2011', 'Portland Trail Blazers'), 12),\n",
       " (('2013', 'Minnesota Timberwolves'), 12),\n",
       " (('2011', 'Houston Rockets'), 12),\n",
       " (('2016', 'New York Knicks'), 12),\n",
       " (('2017', 'Atlanta Hawks'), 12),\n",
       " (('2016', 'Milwaukee Bucks'), 12),\n",
       " (('2009', 'New York Knicks'), 12),\n",
       " (('2015', 'Minnesota Timberwolves'), 12),\n",
       " (('2017', 'Portland Trail Blazers'), 11),\n",
       " (('2014', 'Milwaukee Bucks'), 11),\n",
       " (('2010', 'Indiana Pacers'), 11),\n",
       " (('2011', 'Sacramento Kings'), 11),\n",
       " (('2007', 'New Orleans Hornets'), 11),\n",
       " (('2017', 'Oklahoma City Thunder'), 11),\n",
       " (('2007', 'Golden State Warriors'), 11),\n",
       " (('2008', 'Sacramento Kings'), 11),\n",
       " (('2009', 'Memphis Grizzlies'), 11),\n",
       " (('2014', 'Denver Nuggets'), 11),\n",
       " (('2007', 'Detroit Pistons'), 11),\n",
       " (('2017', 'Denver Nuggets'), 11),\n",
       " (('2014', 'Philadelphia 76ers'), 11),\n",
       " (('2013', 'Sacramento Kings'), 11),\n",
       " (('2008', 'Indiana Pacers'), 11),\n",
       " (('2010', 'Golden State Warriors'), 10),\n",
       " (('2016', 'New Orleans Pelicans'), 10),\n",
       " (('2011', 'New York Knicks'), 10),\n",
       " (('2010', 'Detroit Pistons'), 10),\n",
       " (('2012', 'Washington Wizards'), 10),\n",
       " (('2014', 'Orlando Magic'), 10),\n",
       " (('2015', 'Phoenix Suns'), 10),\n",
       " (('2009', 'Charlotte Bobcats'), 10),\n",
       " (('2011', 'Charlotte Bobcats'), 10),\n",
       " (('2012', 'Detroit Pistons'), 10),\n",
       " (('2015', 'Sacramento Kings'), 10),\n",
       " (('2015', 'Orlando Magic'), 10),\n",
       " (('2008', 'Los Angeles Clippers'), 10),\n",
       " (('2009', 'Indiana Pacers'), 10),\n",
       " (('2017', 'Memphis Grizzlies'), 10),\n",
       " (('2016', 'Phoenix Suns'), 9),\n",
       " (('2009', 'Washington Wizards'), 9),\n",
       " (('2007', 'Toronto Raptors'), 9),\n",
       " (('2017', 'Indiana Pacers'), 9),\n",
       " (('2011', 'Indiana Pacers'), 9),\n",
       " (('2008', 'Minnesota Timberwolves'), 9),\n",
       " (('2014', 'Detroit Pistons'), 9),\n",
       " (('2014', 'Utah Jazz'), 9),\n",
       " (('2013', 'Charlotte Bobcats'), 9),\n",
       " (('2017', 'New Orleans Pelicans'), 9),\n",
       " (('2007', 'Indiana Pacers'), 8),\n",
       " (('2009', 'Milwaukee Bucks'), 8),\n",
       " (('2007', 'Los Angeles Lakers'), 8),\n",
       " (('2011', 'Milwaukee Bucks'), 8),\n",
       " (('2017', 'Philadelphia 76ers'), 8),\n",
       " (('2013', 'Cleveland Cavaliers'), 8),\n",
       " (('2008', 'Miami Heat'), 8),\n",
       " (('2009', 'Los Angeles Clippers'), 8),\n",
       " (('2007', 'Houston Rockets'), 8),\n",
       " (('2017', 'Dallas Mavericks'), 8),\n",
       " (('2017', 'Sacramento Kings'), 8),\n",
       " (('2013', 'Philadelphia 76ers'), 8),\n",
       " (('2008', 'Memphis Grizzlies'), 7),\n",
       " (('2007', 'New Jersey Nets'), 7),\n",
       " (('2017', 'Detroit Pistons'), 7),\n",
       " (('2014', 'Boston Celtics'), 7),\n",
       " (('2015', 'Los Angeles Lakers'), 7),\n",
       " (('2007', 'Philadelphia 76ers'), 7),\n",
       " (('2013', 'New Orleans Hornets'), 7),\n",
       " (('2009', 'Sacramento Kings'), 7),\n",
       " (('2011', 'Utah Jazz'), 7),\n",
       " (('2011', 'Los Angeles Clippers'), 7),\n",
       " (('2012', 'Sacramento Kings'), 7),\n",
       " (('2009', 'Golden State Warriors'), 7),\n",
       " (('2017', 'New York Knicks'), 7),\n",
       " (('2007', 'Dallas Mavericks'), 6),\n",
       " (('2012', 'Charlotte Bobcats'), 6),\n",
       " (('2007', 'Denver Nuggets'), 6),\n",
       " (('2009', 'New Jersey Nets'), 6),\n",
       " (('2013', 'Orlando Magic'), 6),\n",
       " (('2007', 'Cleveland Cavaliers'), 6),\n",
       " (('2010', 'New Jersey Nets'), 6),\n",
       " (('2017', 'Brooklyn Nets'), 6),\n",
       " (('2010', 'Los Angeles Clippers'), 6),\n",
       " (('2007', 'Washington Wizards'), 6),\n",
       " (('2011', 'Detroit Pistons'), 6),\n",
       " (('2010', 'Washington Wizards'), 6),\n",
       " (('2010', 'Sacramento Kings'), 6),\n",
       " (('2016', 'Los Angeles Lakers'), 6),\n",
       " (('2017', 'Minnesota Timberwolves'), 6),\n",
       " (('2017', 'Charlotte Hornets'), 6),\n",
       " (('2007', 'Utah Jazz'), 6),\n",
       " (('2007', 'Atlanta Hawks'), 5),\n",
       " (('2016', 'Brooklyn Nets'), 5),\n",
       " (('2007', 'San Antonio Spurs'), 5),\n",
       " (('2017', 'Phoenix Suns'), 5),\n",
       " (('2011', 'Golden State Warriors'), 5),\n",
       " (('2017', 'Orlando Magic'), 5),\n",
       " (('2011', 'Cleveland Cavaliers'), 5),\n",
       " (('2007', 'Chicago Bulls'), 5),\n",
       " (('2007', 'Los Angeles Clippers'), 5),\n",
       " (('2013', 'New Orleans Pelicans'), 5),\n",
       " (('2012', 'Brooklyn Nets'), 5),\n",
       " (('2007', 'Seattle SuperSonics'), 4),\n",
       " (('2016', 'Philadelphia 76ers'), 4),\n",
       " (('2007', 'Miami Heat'), 4),\n",
       " (('2017', 'Los Angeles Lakers'), 4),\n",
       " (('2010', 'Minnesota Timberwolves'), 4),\n",
       " (('2015', 'Philadelphia 76ers'), 4),\n",
       " (('2007', 'Sacramento Kings'), 3),\n",
       " (('2007', 'Portland Trail Blazers'), 3),\n",
       " (('2007', 'Memphis Grizzlies'), 3),\n",
       " (('2008', 'Seattle SuperSonics'), 3),\n",
       " (('2011', 'Washington Wizards'), 3),\n",
       " (('2011', 'Toronto Raptors'), 3),\n",
       " (('2011', 'New Jersey Nets'), 3),\n",
       " (('2014', 'Charlotte Hornets'), 3),\n",
       " (('2011', 'Minnesota Timberwolves'), 3),\n",
       " (('2007', 'Milwaukee Bucks'), 2),\n",
       " (('2008', 'Oklahoma City Thunder'), 1),\n",
       " (('2007', 'New York Knicks'), 1),\n",
       " (('2007', 'Charlotte Bobcats'), 1),\n",
       " (('2007', 'Minnesota Timberwolves'), 1)]"
      ]
     },
     "execution_count": 40,
     "metadata": {},
     "output_type": "execute_result"
    }
   ],
   "source": [
    "mejor_visitante = liga_parsed.filter(lambda x: int(x[6]) > int(x[8])).map(lambda x: ((x[3],x[5]),1)).reduceByKey(lambda y,z: y + z)\n",
    "mejor_visitante.sortBy(lambda x: -x[1]).collect()"
   ]
  },
  {
   "cell_type": "markdown",
   "metadata": {},
   "source": [
    "Junto los rdd de mejor local y mejor visitante y ordeno en función del número de victorias."
   ]
  },
  {
   "cell_type": "code",
   "execution_count": 41,
   "metadata": {
    "collapsed": false
   },
   "outputs": [
    {
     "data": {
      "text/plain": [
       "[(('2015', 'Golden State Warriors'), 88),\n",
       " (('2016', 'Golden State Warriors'), 87),\n",
       " (('2013', 'Miami Heat'), 85),\n",
       " (('2008', 'Boston Celtics'), 84),\n",
       " (('2012', 'San Antonio Spurs'), 82),\n",
       " (('2009', 'Los Angeles Lakers'), 81),\n",
       " (('2012', 'Miami Heat'), 79),\n",
       " (('2012', 'Oklahoma City Thunder'), 79),\n",
       " (('2008', 'Los Angeles Lakers'), 77),\n",
       " (('2016', 'Cleveland Cavaliers'), 77),\n",
       " (('2009', 'Cleveland Cavaliers'), 76),\n",
       " (('2013', 'San Antonio Spurs'), 73),\n",
       " (('2014', 'San Antonio Spurs'), 73),\n",
       " (('2016', 'San Antonio Spurs'), 72),\n",
       " (('2010', 'Los Angeles Lakers'), 71),\n",
       " (('2009', 'Orlando Magic'), 70),\n",
       " (('2015', 'Cleveland Cavaliers'), 70),\n",
       " (('2016', 'Toronto Raptors'), 68),\n",
       " (('2012', 'Los Angeles Clippers'), 68),\n",
       " (('2013', 'Indiana Pacers'), 67),\n",
       " (('2010', 'Orlando Magic'), 67),\n",
       " (('2010', 'Boston Celtics'), 66),\n",
       " (('2015', 'Atlanta Hawks'), 66),\n",
       " (('2013', 'Oklahoma City Thunder'), 66),\n",
       " (('2015', 'San Antonio Spurs'), 66),\n",
       " (('2012', 'Chicago Bulls'), 65),\n",
       " (('2014', 'Los Angeles Clippers'), 64),\n",
       " (('2016', 'Oklahoma City Thunder'), 64),\n",
       " (('2008', 'Cleveland Cavaliers'), 64),\n",
       " (('2008', 'Detroit Pistons'), 64),\n",
       " (('2008', 'San Antonio Spurs'), 64),\n",
       " (('2009', 'Boston Celtics'), 64),\n",
       " (('2010', 'San Antonio Spurs'), 63),\n",
       " (('2012', 'Indiana Pacers'), 63),\n",
       " (('2014', 'Memphis Grizzlies'), 63),\n",
       " (('2012', 'Boston Celtics'), 63),\n",
       " (('2009', 'Denver Nuggets'), 63),\n",
       " (('2008', 'Houston Rockets'), 63),\n",
       " (('2012', 'Memphis Grizzlies'), 62),\n",
       " (('2008', 'New Orleans Hornets'), 62),\n",
       " (('2008', 'Utah Jazz'), 62),\n",
       " (('2015', 'Los Angeles Clippers'), 62),\n",
       " (('2014', 'Toronto Raptors'), 61),\n",
       " (('2010', 'Utah Jazz'), 61),\n",
       " (('2014', 'Oklahoma City Thunder'), 60),\n",
       " (('2014', 'Portland Trail Blazers'), 60),\n",
       " (('2008', 'Orlando Magic'), 60),\n",
       " (('2014', 'Golden State Warriors'), 59),\n",
       " (('2015', 'Houston Rockets'), 59),\n",
       " (('2010', 'Dallas Mavericks'), 59),\n",
       " (('2009', 'Houston Rockets'), 59),\n",
       " (('2014', 'Chicago Bulls'), 59),\n",
       " (('2012', 'Atlanta Hawks'), 58),\n",
       " (('2014', 'Washington Wizards'), 58),\n",
       " (('2012', 'Los Angeles Lakers'), 58),\n",
       " (('2013', 'Memphis Grizzlies'), 58),\n",
       " (('2009', 'Dallas Mavericks'), 58),\n",
       " (('2010', 'Oklahoma City Thunder'), 57),\n",
       " (('2014', 'Houston Rockets'), 57),\n",
       " (('2014', 'Dallas Mavericks'), 57),\n",
       " (('2010', 'Phoenix Suns'), 57),\n",
       " (('2014', 'Miami Heat'), 57),\n",
       " (('2010', 'Miami Heat'), 57),\n",
       " (('2009', 'Portland Trail Blazers'), 57),\n",
       " (('2010', 'Atlanta Hawks'), 57),\n",
       " (('2013', 'Denver Nuggets'), 56),\n",
       " (('2012', 'New York Knicks'), 56),\n",
       " (('2015', 'Memphis Grizzlies'), 56),\n",
       " (('2012', 'Denver Nuggets'), 56),\n",
       " (('2016', 'Los Angeles Clippers'), 56),\n",
       " (('2013', 'Los Angeles Clippers'), 54),\n",
       " (('2012', 'Philadelphia 76ers'), 54),\n",
       " (('2009', 'San Antonio Spurs'), 54),\n",
       " (('2017', 'Golden State Warriors'), 54),\n",
       " (('2014', 'Brooklyn Nets'), 54),\n",
       " (('2014', 'Indiana Pacers'), 53),\n",
       " (('2010', 'Denver Nuggets'), 53),\n",
       " (('2016', 'Charlotte Hornets'), 53),\n",
       " (('2008', 'Denver Nuggets'), 53),\n",
       " (('2011', 'Chicago Bulls'), 53),\n",
       " (('2015', 'Oklahoma City Thunder'), 52),\n",
       " (('2015', 'Chicago Bulls'), 52),\n",
       " (('2013', 'Golden State Warriors'), 52),\n",
       " (('2016', 'Boston Celtics'), 52),\n",
       " (('2016', 'Houston Rockets'), 52),\n",
       " (('2008', 'Phoenix Suns'), 52),\n",
       " (('2008', 'Dallas Mavericks'), 51),\n",
       " (('2013', 'Houston Rockets'), 51),\n",
       " (('2009', 'Atlanta Hawks'), 51),\n",
       " (('2011', 'Miami Heat'), 51),\n",
       " (('2012', 'Utah Jazz'), 50),\n",
       " (('2011', 'Dallas Mavericks'), 50),\n",
       " (('2010', 'Chicago Bulls'), 50),\n",
       " (('2010', 'Cleveland Cavaliers'), 49),\n",
       " (('2010', 'Milwaukee Bucks'), 49),\n",
       " (('2009', 'Phoenix Suns'), 49),\n",
       " (('2012', 'Houston Rockets'), 49),\n",
       " (('2016', 'Portland Trail Blazers'), 49),\n",
       " (('2010', 'Portland Trail Blazers'), 48),\n",
       " (('2013', 'New York Knicks'), 48),\n",
       " (('2009', 'Utah Jazz'), 48),\n",
       " (('2016', 'Atlanta Hawks'), 48),\n",
       " (('2012', 'Orlando Magic'), 47),\n",
       " (('2015', 'Dallas Mavericks'), 47),\n",
       " (('2012', 'Dallas Mavericks'), 47),\n",
       " (('2016', 'Utah Jazz'), 47),\n",
       " (('2013', 'Dallas Mavericks'), 47),\n",
       " (('2014', 'Phoenix Suns'), 47),\n",
       " (('2015', 'Boston Celtics'), 47),\n",
       " (('2016', 'Miami Heat'), 47),\n",
       " (('2013', 'Chicago Bulls'), 46),\n",
       " (('2011', 'Oklahoma City Thunder'), 46),\n",
       " (('2008', 'Atlanta Hawks'), 46),\n",
       " (('2014', 'Atlanta Hawks'), 46),\n",
       " (('2013', 'Brooklyn Nets'), 46),\n",
       " (('2016', 'Memphis Grizzlies'), 46),\n",
       " (('2016', 'Indiana Pacers'), 46),\n",
       " (('2013', 'Atlanta Hawks'), 45),\n",
       " (('2012', 'Milwaukee Bucks'), 45),\n",
       " (('2009', 'New Orleans Hornets'), 45),\n",
       " (('2009', 'Miami Heat'), 45),\n",
       " (('2015', 'Toronto Raptors'), 45),\n",
       " (('2015', 'Washington Wizards'), 44),\n",
       " (('2015', 'Indiana Pacers'), 44),\n",
       " (('2013', 'Portland Trail Blazers'), 43),\n",
       " (('2009', 'Chicago Bulls'), 43),\n",
       " (('2013', 'Los Angeles Lakers'), 43),\n",
       " (('2008', 'Portland Trail Blazers'), 43),\n",
       " (('2016', 'Washington Wizards'), 43),\n",
       " (('2010', 'Charlotte Bobcats'), 43),\n",
       " (('2012', 'Phoenix Suns'), 43),\n",
       " (('2010', 'New Orleans Hornets'), 42),\n",
       " (('2013', 'Boston Celtics'), 42),\n",
       " (('2017', 'San Antonio Spurs'), 42),\n",
       " (('2015', 'Detroit Pistons'), 42),\n",
       " (('2017', 'Boston Celtics'), 42),\n",
       " (('2012', 'Golden State Warriors'), 42),\n",
       " (('2011', 'Los Angeles Lakers'), 41),\n",
       " (('2008', 'Philadelphia 76ers'), 41),\n",
       " (('2016', 'Detroit Pistons'), 41),\n",
       " (('2015', 'Utah Jazz'), 41),\n",
       " (('2015', 'Miami Heat'), 41),\n",
       " (('2014', 'Cleveland Cavaliers'), 41),\n",
       " (('2012', 'Minnesota Timberwolves'), 40),\n",
       " (('2017', 'Washington Wizards'), 40),\n",
       " (('2012', 'Portland Trail Blazers'), 40),\n",
       " (('2015', 'Portland Trail Blazers'), 40),\n",
       " (('2015', 'Charlotte Hornets'), 40),\n",
       " (('2016', 'Chicago Bulls'), 40),\n",
       " (('2011', 'Memphis Grizzlies'), 40),\n",
       " (('2013', 'Washington Wizards'), 39),\n",
       " (('2010', 'Memphis Grizzlies'), 39),\n",
       " (('2008', 'Golden State Warriors'), 39),\n",
       " (('2017', 'Cleveland Cavaliers'), 39),\n",
       " (('2015', 'New Orleans Pelicans'), 39),\n",
       " (('2015', 'Milwaukee Bucks'), 39),\n",
       " (('2009', 'Philadelphia 76ers'), 39),\n",
       " (('2011', 'Boston Celtics'), 38),\n",
       " (('2010', 'Houston Rockets'), 38),\n",
       " (('2013', 'Utah Jazz'), 38),\n",
       " (('2011', 'San Antonio Spurs'), 38),\n",
       " (('2010', 'Indiana Pacers'), 37),\n",
       " (('2008', 'Toronto Raptors'), 37),\n",
       " (('2009', 'Toronto Raptors'), 37),\n",
       " (('2009', 'Oklahoma City Thunder'), 37),\n",
       " (('2013', 'Toronto Raptors'), 37),\n",
       " (('2008', 'Washington Wizards'), 36),\n",
       " (('2008', 'Chicago Bulls'), 36),\n",
       " (('2011', 'Portland Trail Blazers'), 36),\n",
       " (('2009', 'Charlotte Bobcats'), 36),\n",
       " (('2016', 'Milwaukee Bucks'), 36),\n",
       " (('2011', 'Orlando Magic'), 36),\n",
       " (('2014', 'New Orleans Pelicans'), 36),\n",
       " (('2012', 'Detroit Pistons'), 35),\n",
       " (('2010', 'New York Knicks'), 35),\n",
       " (('2008', 'New Jersey Nets'), 35),\n",
       " (('2011', 'Denver Nuggets'), 35),\n",
       " (('2008', 'Sacramento Kings'), 35),\n",
       " (('2016', 'Sacramento Kings'), 35),\n",
       " (('2010', 'Toronto Raptors'), 35),\n",
       " (('2014', 'Denver Nuggets'), 35),\n",
       " (('2017', 'Houston Rockets'), 35),\n",
       " (('2016', 'Denver Nuggets'), 35),\n",
       " (('2009', 'Indiana Pacers'), 35),\n",
       " (('2016', 'Dallas Mavericks'), 34),\n",
       " (('2016', 'New Orleans Pelicans'), 34),\n",
       " (('2017', 'Utah Jazz'), 34),\n",
       " (('2015', 'Brooklyn Nets'), 34),\n",
       " (('2014', 'New York Knicks'), 33),\n",
       " (('2016', 'New York Knicks'), 33),\n",
       " (('2015', 'Phoenix Suns'), 33),\n",
       " (('2012', 'Toronto Raptors'), 33),\n",
       " (('2013', 'Phoenix Suns'), 33),\n",
       " (('2017', 'Toronto Raptors'), 33),\n",
       " (('2008', 'Charlotte Bobcats'), 32),\n",
       " (('2013', 'Detroit Pistons'), 32),\n",
       " (('2012', 'Sacramento Kings'), 32),\n",
       " (('2009', 'New York Knicks'), 32),\n",
       " (('2013', 'Minnesota Timberwolves'), 32),\n",
       " (('2011', 'Atlanta Hawks'), 32),\n",
       " (('2017', 'Los Angeles Clippers'), 32),\n",
       " (('2011', 'New Orleans Hornets'), 31),\n",
       " (('2009', 'Detroit Pistons'), 31),\n",
       " (('2009', 'Milwaukee Bucks'), 31),\n",
       " (('2017', 'Miami Heat'), 31),\n",
       " (('2011', 'Philadelphia 76ers'), 31),\n",
       " (('2014', 'Sacramento Kings'), 31),\n",
       " (('2015', 'Orlando Magic'), 31),\n",
       " (('2016', 'Orlando Magic'), 31),\n",
       " (('2010', 'Philadelphia 76ers'), 31),\n",
       " (('2008', 'Indiana Pacers'), 31),\n",
       " (('2010', 'Golden State Warriors'), 30),\n",
       " (('2014', 'Minnesota Timberwolves'), 30),\n",
       " (('2008', 'Milwaukee Bucks'), 30),\n",
       " (('2015', 'Denver Nuggets'), 29),\n",
       " (('2014', 'Charlotte Bobcats'), 29),\n",
       " (('2009', 'Memphis Grizzlies'), 29),\n",
       " (('2013', 'Milwaukee Bucks'), 29),\n",
       " (('2011', 'Houston Rockets'), 29),\n",
       " (('2013', 'Philadelphia 76ers'), 29),\n",
       " (('2017', 'Milwaukee Bucks'), 28),\n",
       " (('2015', 'Sacramento Kings'), 28),\n",
       " (('2009', 'Golden State Warriors'), 28),\n",
       " (('2017', 'Atlanta Hawks'), 28),\n",
       " (('2016', 'Minnesota Timberwolves'), 28),\n",
       " (('2012', 'Cleveland Cavaliers'), 27),\n",
       " (('2010', 'Detroit Pistons'), 27),\n",
       " (('2015', 'New York Knicks'), 27),\n",
       " (('2008', 'New York Knicks'), 27),\n",
       " (('2017', 'Chicago Bulls'), 27),\n",
       " (('2013', 'Cleveland Cavaliers'), 27),\n",
       " (('2011', 'Phoenix Suns'), 27),\n",
       " (('2011', 'Indiana Pacers'), 27),\n",
       " (('2017', 'Portland Trail Blazers'), 27),\n",
       " (('2017', 'Oklahoma City Thunder'), 27),\n",
       " (('2013', 'Sacramento Kings'), 27),\n",
       " (('2013', 'Charlotte Bobcats'), 27),\n",
       " (('2012', 'New Orleans Hornets'), 26),\n",
       " (('2011', 'New York Knicks'), 26),\n",
       " (('2017', 'Indiana Pacers'), 26),\n",
       " (('2014', 'Orlando Magic'), 26),\n",
       " (('2014', 'Utah Jazz'), 26),\n",
       " (('2017', 'Denver Nuggets'), 26),\n",
       " (('2007', 'Boston Celtics'), 26),\n",
       " (('2014', 'Milwaukee Bucks'), 25),\n",
       " (('2009', 'Minnesota Timberwolves'), 25),\n",
       " (('2011', 'Golden State Warriors'), 25),\n",
       " (('2010', 'Los Angeles Clippers'), 25),\n",
       " (('2011', 'Milwaukee Bucks'), 25),\n",
       " (('2009', 'Los Angeles Clippers'), 25),\n",
       " (('2008', 'Memphis Grizzlies'), 24),\n",
       " (('2011', 'Charlotte Bobcats'), 24),\n",
       " (('2010', 'Washington Wizards'), 24),\n",
       " (('2014', 'Los Angeles Lakers'), 24),\n",
       " (('2012', 'Washington Wizards'), 24),\n",
       " (('2008', 'Miami Heat'), 24),\n",
       " (('2008', 'Minnesota Timberwolves'), 24),\n",
       " (('2007', 'Detroit Pistons'), 24),\n",
       " (('2017', 'Dallas Mavericks'), 23),\n",
       " (('2009', 'Washington Wizards'), 23),\n",
       " (('2011', 'Los Angeles Clippers'), 23),\n",
       " (('2014', 'Boston Celtics'), 23),\n",
       " (('2016', 'Los Angeles Lakers'), 23),\n",
       " (('2009', 'Sacramento Kings'), 23),\n",
       " (('2014', 'Detroit Pistons'), 23),\n",
       " (('2015', 'Minnesota Timberwolves'), 23),\n",
       " (('2017', 'Memphis Grizzlies'), 23),\n",
       " (('2007', 'Orlando Magic'), 22),\n",
       " (('2009', 'New Jersey Nets'), 22),\n",
       " (('2017', 'Detroit Pistons'), 22),\n",
       " (('2007', 'Phoenix Suns'), 22),\n",
       " (('2007', 'San Antonio Spurs'), 21),\n",
       " (('2016', 'Phoenix Suns'), 21),\n",
       " (('2012', 'New Jersey Nets'), 21),\n",
       " (('2008', 'Los Angeles Clippers'), 21),\n",
       " (('2016', 'Brooklyn Nets'), 20),\n",
       " (('2007', 'Dallas Mavericks'), 20),\n",
       " (('2007', 'New Orleans Hornets'), 20),\n",
       " (('2013', 'New Orleans Hornets'), 20),\n",
       " (('2017', 'Philadelphia 76ers'), 20),\n",
       " (('2017', 'Minnesota Timberwolves'), 20),\n",
       " (('2011', 'Detroit Pistons'), 20),\n",
       " (('2017', 'New Orleans Pelicans'), 20),\n",
       " (('2007', 'Los Angeles Lakers'), 19),\n",
       " (('2011', 'Sacramento Kings'), 19),\n",
       " (('2007', 'Golden State Warriors'), 19),\n",
       " (('2007', 'Denver Nuggets'), 18),\n",
       " (('2013', 'Orlando Magic'), 18),\n",
       " (('2010', 'New Jersey Nets'), 18),\n",
       " (('2007', 'Portland Trail Blazers'), 18),\n",
       " (('2017', 'Sacramento Kings'), 18),\n",
       " (('2011', 'Utah Jazz'), 18),\n",
       " (('2015', 'Los Angeles Lakers'), 17),\n",
       " (('2010', 'Sacramento Kings'), 17),\n",
       " (('2017', 'Charlotte Hornets'), 17),\n",
       " (('2007', 'Utah Jazz'), 17),\n",
       " (('2007', 'Toronto Raptors'), 17),\n",
       " (('2015', 'Philadelphia 76ers'), 17),\n",
       " (('2011', 'New Jersey Nets'), 16),\n",
       " (('2010', 'Minnesota Timberwolves'), 16),\n",
       " (('2012', 'Brooklyn Nets'), 16),\n",
       " (('2007', 'Atlanta Hawks'), 15),\n",
       " (('2007', 'Indiana Pacers'), 15),\n",
       " (('2016', 'Philadelphia 76ers'), 15),\n",
       " (('2007', 'Washington Wizards'), 15),\n",
       " (('2011', 'Washington Wizards'), 15),\n",
       " (('2007', 'Houston Rockets'), 15),\n",
       " (('2017', 'New York Knicks'), 15),\n",
       " (('2017', 'Phoenix Suns'), 14),\n",
       " (('2007', 'New Jersey Nets'), 14),\n",
       " (('2007', 'Cleveland Cavaliers'), 14),\n",
       " (('2017', 'Orlando Magic'), 14),\n",
       " (('2007', 'Philadelphia 76ers'), 14),\n",
       " (('2012', 'Charlotte Bobcats'), 14),\n",
       " (('2013', 'New Orleans Pelicans'), 14),\n",
       " (('2017', 'Los Angeles Lakers'), 14),\n",
       " (('2014', 'Philadelphia 76ers'), 14),\n",
       " (('2017', 'Brooklyn Nets'), 12),\n",
       " (('2011', 'Cleveland Cavaliers'), 12),\n",
       " (('2011', 'Toronto Raptors'), 12),\n",
       " (('2007', 'Sacramento Kings'), 11),\n",
       " (('2007', 'Milwaukee Bucks'), 11),\n",
       " (('2008', 'Seattle SuperSonics'), 11),\n",
       " (('2007', 'Chicago Bulls'), 11),\n",
       " (('2007', 'Charlotte Bobcats'), 11),\n",
       " (('2014', 'Charlotte Hornets'), 10),\n",
       " (('2007', 'Los Angeles Clippers'), 10),\n",
       " (('2007', 'Seattle SuperSonics'), 9),\n",
       " (('2011', 'Minnesota Timberwolves'), 9),\n",
       " (('2007', 'New York Knicks'), 8),\n",
       " (('2007', 'Memphis Grizzlies'), 8),\n",
       " (('2007', 'Miami Heat'), 8),\n",
       " (('2008', 'Oklahoma City Thunder'), 4),\n",
       " (('2007', 'Minnesota Timberwolves'), 4)]"
      ]
     },
     "execution_count": 41,
     "metadata": {},
     "output_type": "execute_result"
    }
   ],
   "source": [
    "mejor_equipo = mejor_local.join(mejor_visitante).map(lambda x: (x[0], (int(x[1][0]) + int(x[1][1]))))\n",
    "mejor_equipo.sortBy(lambda x: -x[1]).collect()"
   ]
  },
  {
   "cell_type": "markdown",
   "metadata": {},
   "source": [
    "Se observa que Golden state Warriors son los mejores en 2015 y 2016, San Antonio Spurs en 2014, Miami Heat en 2013, etc."
   ]
  },
  {
   "cell_type": "markdown",
   "metadata": {},
   "source": [
    "##  Décima pregunta: Escribe la expresión regular correcta que sólo macheen los teléfonos y el correo del siguiente texto."
   ]
  },
  {
   "cell_type": "markdown",
   "metadata": {},
   "source": [
    "Los teléfonos vienen expresados en la forma XXX XX XX XX. Siendo X un número en todo caso, por ello establezo la siguiente expresión."
   ]
  },
  {
   "cell_type": "code",
   "execution_count": 42,
   "metadata": {
    "collapsed": true
   },
   "outputs": [],
   "source": [
    "expresion_telefonos = re.compile('(\\d{3}\\s\\d{2}\\s\\d{2}\\s\\d{2})')"
   ]
  },
  {
   "cell_type": "markdown",
   "metadata": {},
   "source": [
    "El correo electrónico tiene la forma XXXXX@XXX.com. La cadena de texto anterior al @ está formada por 15 caractéres sin espacios en blanco. La cádena de texto posterior al @ está formada por 9 caractéres, un punto y otros 3 caractéres sin espacios en blanco."
   ]
  },
  {
   "cell_type": "code",
   "execution_count": 43,
   "metadata": {
    "collapsed": true
   },
   "outputs": [],
   "source": [
    "expresion_email = re.compile('(\\S{15}\\@\\S{9}\\.\\S{3})')"
   ]
  },
  {
   "cell_type": "markdown",
   "metadata": {},
   "source": [
    "Genero una variable que será el texto."
   ]
  },
  {
   "cell_type": "code",
   "execution_count": 44,
   "metadata": {
    "collapsed": true
   },
   "outputs": [],
   "source": [
    "texto = 'Si eres cliente y necesitas información sobre tus posiciones, productos o realizar operaciones: Desde España. Desde el extranjero. Banca telefónica en castellano. Bandera castellano. 902 13 23 13. Banca telefónica en catalán. Bandera catalana. 902 88 30 08. Banca telefónica en inglés. Bandera inglesa. 902 88 88 35. O por correo electrónico a atencioncliente@bankinter.com'"
   ]
  },
  {
   "cell_type": "markdown",
   "metadata": {},
   "source": [
    "Con findall() lo que hago es que busque todas las coincidencias dentro del texto."
   ]
  },
  {
   "cell_type": "code",
   "execution_count": 45,
   "metadata": {
    "collapsed": false
   },
   "outputs": [
    {
     "data": {
      "text/plain": [
       "['902 13 23 13', '902 88 30 08', '902 88 88 35']"
      ]
     },
     "execution_count": 45,
     "metadata": {},
     "output_type": "execute_result"
    }
   ],
   "source": [
    "expresion_telefonos.findall(texto)"
   ]
  },
  {
   "cell_type": "code",
   "execution_count": 46,
   "metadata": {
    "collapsed": false
   },
   "outputs": [
    {
     "data": {
      "text/plain": [
       "['atencioncliente@bankinter.com']"
      ]
     },
     "execution_count": 46,
     "metadata": {},
     "output_type": "execute_result"
    }
   ],
   "source": [
    "expresion_email.findall(texto)"
   ]
  },
  {
   "cell_type": "markdown",
   "metadata": {},
   "source": [
    "# Décimo primera pregunta: Histograma de los puntos de los visitantes"
   ]
  },
  {
   "cell_type": "markdown",
   "metadata": {},
   "source": [
    "__OBJETIVO:__ Replicar la función histogram de los rdd, esta nos ofrece una lista de tuplas formadas por los cortes de las columnas y las frecuencias de cada columna."
   ]
  },
  {
   "cell_type": "markdown",
   "metadata": {},
   "source": [
    "Realizo un mapeo sobre el rdd liga_parsed y me quedo con los puntos de los equipos visitantes."
   ]
  },
  {
   "cell_type": "code",
   "execution_count": 47,
   "metadata": {
    "collapsed": true
   },
   "outputs": [],
   "source": [
    "visitor_points = liga_parsed.map(lambda x: int(x[6]))"
   ]
  },
  {
   "cell_type": "markdown",
   "metadata": {},
   "source": [
    "Hago un collect y almaceno la lista en una variable."
   ]
  },
  {
   "cell_type": "code",
   "execution_count": 48,
   "metadata": {
    "collapsed": true
   },
   "outputs": [],
   "source": [
    "x = visitor_points.collect()"
   ]
  },
  {
   "cell_type": "markdown",
   "metadata": {},
   "source": [
    "Ordeno los elementos de la lista."
   ]
  },
  {
   "cell_type": "code",
   "execution_count": 49,
   "metadata": {
    "collapsed": true
   },
   "outputs": [],
   "source": [
    "x.sort()"
   ]
  },
  {
   "cell_type": "markdown",
   "metadata": {},
   "source": [
    "Calculo los cuaertiles."
   ]
  },
  {
   "cell_type": "code",
   "execution_count": 50,
   "metadata": {
    "collapsed": false
   },
   "outputs": [
    {
     "data": {
      "text/plain": [
       "91"
      ]
     },
     "execution_count": 50,
     "metadata": {},
     "output_type": "execute_result"
    }
   ],
   "source": [
    "# 25%\n",
    "\n",
    "x[int(len(x)*.25)]"
   ]
  },
  {
   "cell_type": "code",
   "execution_count": 51,
   "metadata": {
    "collapsed": false
   },
   "outputs": [
    {
     "data": {
      "text/plain": [
       "98"
      ]
     },
     "execution_count": 51,
     "metadata": {},
     "output_type": "execute_result"
    }
   ],
   "source": [
    "# 50%\n",
    "\n",
    "x[int(len(x)*.50)]"
   ]
  },
  {
   "cell_type": "code",
   "execution_count": 52,
   "metadata": {
    "collapsed": false
   },
   "outputs": [
    {
     "data": {
      "text/plain": [
       "107"
      ]
     },
     "execution_count": 52,
     "metadata": {},
     "output_type": "execute_result"
    }
   ],
   "source": [
    "# 75%\n",
    "\n",
    "x[int(len(x)*.75)]"
   ]
  },
  {
   "cell_type": "markdown",
   "metadata": {},
   "source": [
    "Defino una función para aplicar luego mediante un map, me clasifica los puntos en los cuartiles."
   ]
  },
  {
   "cell_type": "code",
   "execution_count": 53,
   "metadata": {
    "collapsed": true
   },
   "outputs": [],
   "source": [
    "def cuartiles(puntos):\n",
    "    if puntos <= 98:\n",
    "        if puntos <= 91:\n",
    "            return (1)\n",
    "        else:\n",
    "            return (2)\n",
    "    else:\n",
    "        if puntos <= 107:\n",
    "            return (3)\n",
    "        else:\n",
    "            return (4) "
   ]
  },
  {
   "cell_type": "markdown",
   "metadata": {},
   "source": [
    "Aplico el map con la función cuartiles, genero también un contador, de esta forma tendremos un rdd con tuplas que tendrán como key o label el cuartil correspondiente y la frecuencia como valor."
   ]
  },
  {
   "cell_type": "code",
   "execution_count": 54,
   "metadata": {
    "collapsed": false
   },
   "outputs": [
    {
     "data": {
      "text/plain": [
       "[(1, 3600), (2, 2877), (3, 3446), (4, 2974)]"
      ]
     },
     "execution_count": 54,
     "metadata": {},
     "output_type": "execute_result"
    }
   ],
   "source": [
    "visitor_points.map(lambda x: (cuartiles(x),1)).reduceByKey(lambda y,z: y + z).collect()"
   ]
  },
  {
   "cell_type": "code",
   "execution_count": 57,
   "metadata": {
    "collapsed": true
   },
   "outputs": [],
   "source": [
    "sc.stop()"
   ]
  }
 ],
 "metadata": {
  "kernelspec": {
   "display_name": "Python 3",
   "language": "python",
   "name": "python3"
  },
  "language_info": {
   "codemirror_mode": {
    "name": "ipython",
    "version": 3
   },
   "file_extension": ".py",
   "mimetype": "text/x-python",
   "name": "python",
   "nbconvert_exporter": "python",
   "pygments_lexer": "ipython3",
   "version": "3.5.2"
  }
 },
 "nbformat": 4,
 "nbformat_minor": 2
}
