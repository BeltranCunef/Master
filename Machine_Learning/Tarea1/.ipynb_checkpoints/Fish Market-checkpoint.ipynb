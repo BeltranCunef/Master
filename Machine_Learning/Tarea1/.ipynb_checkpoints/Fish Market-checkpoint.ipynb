{
 "cells": [
  {
   "cell_type": "markdown",
   "metadata": {},
   "source": [
    "- Autor: Beltrán Aller López"
   ]
  },
  {
   "cell_type": "markdown",
   "metadata": {},
   "source": [
    "- Fecha: 29/10/2019"
   ]
  },
  {
   "cell_type": "markdown",
   "metadata": {},
   "source": [
    "- Email: beltran.aller@cunef.edu"
   ]
  },
  {
   "cell_type": "markdown",
   "metadata": {},
   "source": [
    "- Universidad: CUNEF"
   ]
  },
  {
   "cell_type": "markdown",
   "metadata": {},
   "source": [
    "- Versión: 1.0"
   ]
  },
  {
   "cell_type": "markdown",
   "metadata": {},
   "source": [
    "- Descripción: análisis exploratorio del data set 'Fish Market'."
   ]
  },
  {
   "cell_type": "markdown",
   "metadata": {},
   "source": [
    "- Referencias:\n",
    " - https://www.kaggle.com/aungpyaeap/fish-market/download"
   ]
  },
  {
   "cell_type": "markdown",
   "metadata": {},
   "source": [
    "# FISH MARKET NOTEBOOK"
   ]
  },
  {
   "cell_type": "markdown",
   "metadata": {},
   "source": [
    "### INTRODUCCION"
   ]
  },
  {
   "cell_type": "markdown",
   "metadata": {},
   "source": [
    "A continuación, me dispongo a realizar un análisis exploratorio del data set 'Fish Market'. Este contiene información acerca de medidas tales como peso, longitud en vertical, diagonal y horizontal, así como altura de 7 especies diferentes de pescados comercializados habitualmente."
   ]
  },
  {
   "cell_type": "markdown",
   "metadata": {},
   "source": [
    "### DICCIONARIO DE DATOS"
   ]
  },
  {
   "cell_type": "markdown",
   "metadata": {},
   "source": [
    "El conjunto de datos está compuesto por un total de 159 observaciones correspondientes a las siguientes 7 variables:\n",
    "- Species: se trata del nombre de la especie en cuestión, el conjunto de datos está compuesto por un total de 7 especies distintas. \n",
    "- Weight: peso del pescado medido en gramos.\n",
    "- Length1: longitud en vertical del pescado medida en centímetros.\n",
    "- Length2: longitud en diagonal del pescado medida en centímetros.\n",
    "- Length3: longitud cruzada del pescado medida en centímetros.\n",
    "- Height: altura del pescado medida en centímetros.\n",
    "- Width: anchura del pescado medida en centímetros."
   ]
  },
  {
   "cell_type": "markdown",
   "metadata": {},
   "source": [
    "Del total de 7 variables, 'Species' es la única variable categórica, todas las demás son numéricas."
   ]
  },
  {
   "cell_type": "markdown",
   "metadata": {},
   "source": [
    "### LIBRERIAS"
   ]
  },
  {
   "cell_type": "code",
   "execution_count": 1,
   "metadata": {},
   "outputs": [],
   "source": [
    "import numpy as np # operaciones algebraicas\n",
    "import pandas as pd # para el procesamiento de datos\n",
    "import matplotlib.pyplot as plt # dibujo de gráficos\n",
    "import seaborn as sns # dibujo de gráficos\n",
    "from scipy import stats as sts # prueba de normalidad por JB\n",
    "from sklearn import model_selection\n",
    "from sklearn.linear_model import Ridge, RidgeCV # para el método ridge\n",
    "from sklearn.linear_model import Lasso, LassoCV # para el método lasso\n",
    "from sklearn.metrics import r2_score # R^2\n",
    "from sklearn.model_selection import train_test_split # dividir train y test\n",
    "from sklearn.metrics import mean_squared_error # error cuadratico medio\n",
    "from math import sqrt # raices"
   ]
  },
  {
   "cell_type": "markdown",
   "metadata": {},
   "source": [
    "### SEMILLA "
   ]
  },
  {
   "cell_type": "code",
   "execution_count": 16,
   "metadata": {},
   "outputs": [],
   "source": [
    "np.random.seed(123)"
   ]
  },
  {
   "cell_type": "markdown",
   "metadata": {},
   "source": [
    "### LECTURA DEL FICHERO "
   ]
  },
  {
   "cell_type": "code",
   "execution_count": 17,
   "metadata": {},
   "outputs": [],
   "source": [
    "fish = pd.read_csv('data/Fish.csv')"
   ]
  },
  {
   "cell_type": "markdown",
   "metadata": {},
   "source": [
    "### ANALISIS EXPLORATORIO"
   ]
  },
  {
   "cell_type": "markdown",
   "metadata": {},
   "source": [
    "En primer lugar procedo a realizar una visualización de los datos, para ello extraigo una muestra aleatoria de 15 observaciones."
   ]
  },
  {
   "cell_type": "code",
   "execution_count": 18,
   "metadata": {},
   "outputs": [
    {
     "data": {
      "text/html": [
       "<div>\n",
       "<style scoped>\n",
       "    .dataframe tbody tr th:only-of-type {\n",
       "        vertical-align: middle;\n",
       "    }\n",
       "\n",
       "    .dataframe tbody tr th {\n",
       "        vertical-align: top;\n",
       "    }\n",
       "\n",
       "    .dataframe thead th {\n",
       "        text-align: right;\n",
       "    }\n",
       "</style>\n",
       "<table border=\"1\" class=\"dataframe\">\n",
       "  <thead>\n",
       "    <tr style=\"text-align: right;\">\n",
       "      <th></th>\n",
       "      <th>Species</th>\n",
       "      <th>Weight</th>\n",
       "      <th>Length1</th>\n",
       "      <th>Length2</th>\n",
       "      <th>Length3</th>\n",
       "      <th>Height</th>\n",
       "      <th>Width</th>\n",
       "    </tr>\n",
       "  </thead>\n",
       "  <tbody>\n",
       "    <tr>\n",
       "      <td>136</td>\n",
       "      <td>Pike</td>\n",
       "      <td>540.0</td>\n",
       "      <td>40.1</td>\n",
       "      <td>43.0</td>\n",
       "      <td>45.8</td>\n",
       "      <td>7.7860</td>\n",
       "      <td>5.1296</td>\n",
       "    </tr>\n",
       "    <tr>\n",
       "      <td>110</td>\n",
       "      <td>Perch</td>\n",
       "      <td>556.0</td>\n",
       "      <td>32.0</td>\n",
       "      <td>34.5</td>\n",
       "      <td>36.5</td>\n",
       "      <td>10.2565</td>\n",
       "      <td>6.3875</td>\n",
       "    </tr>\n",
       "    <tr>\n",
       "      <td>148</td>\n",
       "      <td>Smelt</td>\n",
       "      <td>9.7</td>\n",
       "      <td>10.4</td>\n",
       "      <td>11.0</td>\n",
       "      <td>12.0</td>\n",
       "      <td>2.1960</td>\n",
       "      <td>1.3800</td>\n",
       "    </tr>\n",
       "    <tr>\n",
       "      <td>89</td>\n",
       "      <td>Perch</td>\n",
       "      <td>135.0</td>\n",
       "      <td>20.0</td>\n",
       "      <td>22.0</td>\n",
       "      <td>23.5</td>\n",
       "      <td>5.8750</td>\n",
       "      <td>3.5250</td>\n",
       "    </tr>\n",
       "    <tr>\n",
       "      <td>31</td>\n",
       "      <td>Bream</td>\n",
       "      <td>955.0</td>\n",
       "      <td>35.0</td>\n",
       "      <td>38.5</td>\n",
       "      <td>44.0</td>\n",
       "      <td>18.0840</td>\n",
       "      <td>6.2920</td>\n",
       "    </tr>\n",
       "    <tr>\n",
       "      <td>127</td>\n",
       "      <td>Perch</td>\n",
       "      <td>1000.0</td>\n",
       "      <td>41.1</td>\n",
       "      <td>44.0</td>\n",
       "      <td>46.6</td>\n",
       "      <td>12.4888</td>\n",
       "      <td>7.5958</td>\n",
       "    </tr>\n",
       "    <tr>\n",
       "      <td>86</td>\n",
       "      <td>Perch</td>\n",
       "      <td>120.0</td>\n",
       "      <td>20.0</td>\n",
       "      <td>22.0</td>\n",
       "      <td>23.5</td>\n",
       "      <td>6.1100</td>\n",
       "      <td>3.4075</td>\n",
       "    </tr>\n",
       "    <tr>\n",
       "      <td>133</td>\n",
       "      <td>Pike</td>\n",
       "      <td>345.0</td>\n",
       "      <td>36.0</td>\n",
       "      <td>38.5</td>\n",
       "      <td>41.0</td>\n",
       "      <td>6.3960</td>\n",
       "      <td>3.9770</td>\n",
       "    </tr>\n",
       "    <tr>\n",
       "      <td>23</td>\n",
       "      <td>Bream</td>\n",
       "      <td>680.0</td>\n",
       "      <td>31.8</td>\n",
       "      <td>35.0</td>\n",
       "      <td>40.6</td>\n",
       "      <td>15.4686</td>\n",
       "      <td>6.1306</td>\n",
       "    </tr>\n",
       "    <tr>\n",
       "      <td>28</td>\n",
       "      <td>Bream</td>\n",
       "      <td>850.0</td>\n",
       "      <td>32.8</td>\n",
       "      <td>36.0</td>\n",
       "      <td>41.6</td>\n",
       "      <td>16.8896</td>\n",
       "      <td>6.1984</td>\n",
       "    </tr>\n",
       "    <tr>\n",
       "      <td>114</td>\n",
       "      <td>Perch</td>\n",
       "      <td>700.0</td>\n",
       "      <td>34.5</td>\n",
       "      <td>37.0</td>\n",
       "      <td>39.4</td>\n",
       "      <td>10.8350</td>\n",
       "      <td>6.2646</td>\n",
       "    </tr>\n",
       "    <tr>\n",
       "      <td>53</td>\n",
       "      <td>Roach</td>\n",
       "      <td>272.0</td>\n",
       "      <td>25.0</td>\n",
       "      <td>27.0</td>\n",
       "      <td>30.6</td>\n",
       "      <td>8.5680</td>\n",
       "      <td>4.7736</td>\n",
       "    </tr>\n",
       "    <tr>\n",
       "      <td>33</td>\n",
       "      <td>Bream</td>\n",
       "      <td>975.0</td>\n",
       "      <td>37.4</td>\n",
       "      <td>41.0</td>\n",
       "      <td>45.9</td>\n",
       "      <td>18.6354</td>\n",
       "      <td>6.7473</td>\n",
       "    </tr>\n",
       "    <tr>\n",
       "      <td>90</td>\n",
       "      <td>Perch</td>\n",
       "      <td>110.0</td>\n",
       "      <td>20.0</td>\n",
       "      <td>22.0</td>\n",
       "      <td>23.5</td>\n",
       "      <td>5.5225</td>\n",
       "      <td>3.9950</td>\n",
       "    </tr>\n",
       "    <tr>\n",
       "      <td>65</td>\n",
       "      <td>Parkki</td>\n",
       "      <td>150.0</td>\n",
       "      <td>18.4</td>\n",
       "      <td>20.0</td>\n",
       "      <td>22.4</td>\n",
       "      <td>8.8928</td>\n",
       "      <td>3.2928</td>\n",
       "    </tr>\n",
       "  </tbody>\n",
       "</table>\n",
       "</div>"
      ],
      "text/plain": [
       "    Species  Weight  Length1  Length2  Length3   Height   Width\n",
       "136    Pike   540.0     40.1     43.0     45.8   7.7860  5.1296\n",
       "110   Perch   556.0     32.0     34.5     36.5  10.2565  6.3875\n",
       "148   Smelt     9.7     10.4     11.0     12.0   2.1960  1.3800\n",
       "89    Perch   135.0     20.0     22.0     23.5   5.8750  3.5250\n",
       "31    Bream   955.0     35.0     38.5     44.0  18.0840  6.2920\n",
       "127   Perch  1000.0     41.1     44.0     46.6  12.4888  7.5958\n",
       "86    Perch   120.0     20.0     22.0     23.5   6.1100  3.4075\n",
       "133    Pike   345.0     36.0     38.5     41.0   6.3960  3.9770\n",
       "23    Bream   680.0     31.8     35.0     40.6  15.4686  6.1306\n",
       "28    Bream   850.0     32.8     36.0     41.6  16.8896  6.1984\n",
       "114   Perch   700.0     34.5     37.0     39.4  10.8350  6.2646\n",
       "53    Roach   272.0     25.0     27.0     30.6   8.5680  4.7736\n",
       "33    Bream   975.0     37.4     41.0     45.9  18.6354  6.7473\n",
       "90    Perch   110.0     20.0     22.0     23.5   5.5225  3.9950\n",
       "65   Parkki   150.0     18.4     20.0     22.4   8.8928  3.2928"
      ]
     },
     "execution_count": 18,
     "metadata": {},
     "output_type": "execute_result"
    }
   ],
   "source": [
    "fish.sample(15)"
   ]
  },
  {
   "cell_type": "markdown",
   "metadata": {},
   "source": [
    "Procedo a renombrar las columnas correspondientes a las variables 'Length1', 'Length2' y 'Length3'. EL nombre actual de estas es poco intuitivo e induce a error. La variable 'Length1' se corresponde con la longitud en vertical, 'Length2' con la longitud en horizontal y 'Length3' con la longitud cruzada."
   ]
  },
  {
   "cell_type": "code",
   "execution_count": 19,
   "metadata": {},
   "outputs": [],
   "source": [
    "fish.rename(columns = {'Length1': 'LengthVertical', 'Length2': 'LengthHorizontal', \n",
    "                        'Length3': 'LengthCruzada'}, inplace = True)"
   ]
  },
  {
   "cell_type": "markdown",
   "metadata": {},
   "source": [
    "De nuevo visualizo una muestra de 15 observaciones aletorias."
   ]
  },
  {
   "cell_type": "code",
   "execution_count": 20,
   "metadata": {},
   "outputs": [
    {
     "data": {
      "text/html": [
       "<div>\n",
       "<style scoped>\n",
       "    .dataframe tbody tr th:only-of-type {\n",
       "        vertical-align: middle;\n",
       "    }\n",
       "\n",
       "    .dataframe tbody tr th {\n",
       "        vertical-align: top;\n",
       "    }\n",
       "\n",
       "    .dataframe thead th {\n",
       "        text-align: right;\n",
       "    }\n",
       "</style>\n",
       "<table border=\"1\" class=\"dataframe\">\n",
       "  <thead>\n",
       "    <tr style=\"text-align: right;\">\n",
       "      <th></th>\n",
       "      <th>Species</th>\n",
       "      <th>Weight</th>\n",
       "      <th>LengthVertical</th>\n",
       "      <th>LengthHorizontal</th>\n",
       "      <th>LengthCruzada</th>\n",
       "      <th>Height</th>\n",
       "      <th>Width</th>\n",
       "    </tr>\n",
       "  </thead>\n",
       "  <tbody>\n",
       "    <tr>\n",
       "      <td>154</td>\n",
       "      <td>Smelt</td>\n",
       "      <td>12.2</td>\n",
       "      <td>11.5</td>\n",
       "      <td>12.2</td>\n",
       "      <td>13.4</td>\n",
       "      <td>2.0904</td>\n",
       "      <td>1.3936</td>\n",
       "    </tr>\n",
       "    <tr>\n",
       "      <td>31</td>\n",
       "      <td>Bream</td>\n",
       "      <td>955.0</td>\n",
       "      <td>35.0</td>\n",
       "      <td>38.5</td>\n",
       "      <td>44.0</td>\n",
       "      <td>18.0840</td>\n",
       "      <td>6.2920</td>\n",
       "    </tr>\n",
       "    <tr>\n",
       "      <td>81</td>\n",
       "      <td>Perch</td>\n",
       "      <td>85.0</td>\n",
       "      <td>18.2</td>\n",
       "      <td>20.0</td>\n",
       "      <td>21.0</td>\n",
       "      <td>5.0820</td>\n",
       "      <td>2.7720</td>\n",
       "    </tr>\n",
       "    <tr>\n",
       "      <td>71</td>\n",
       "      <td>Parkki</td>\n",
       "      <td>300.0</td>\n",
       "      <td>24.0</td>\n",
       "      <td>26.0</td>\n",
       "      <td>29.0</td>\n",
       "      <td>11.3680</td>\n",
       "      <td>4.2340</td>\n",
       "    </tr>\n",
       "    <tr>\n",
       "      <td>74</td>\n",
       "      <td>Perch</td>\n",
       "      <td>40.0</td>\n",
       "      <td>13.8</td>\n",
       "      <td>15.0</td>\n",
       "      <td>16.0</td>\n",
       "      <td>3.8240</td>\n",
       "      <td>2.4320</td>\n",
       "    </tr>\n",
       "    <tr>\n",
       "      <td>128</td>\n",
       "      <td>Pike</td>\n",
       "      <td>200.0</td>\n",
       "      <td>30.0</td>\n",
       "      <td>32.3</td>\n",
       "      <td>34.8</td>\n",
       "      <td>5.5680</td>\n",
       "      <td>3.3756</td>\n",
       "    </tr>\n",
       "    <tr>\n",
       "      <td>11</td>\n",
       "      <td>Bream</td>\n",
       "      <td>500.0</td>\n",
       "      <td>28.7</td>\n",
       "      <td>31.0</td>\n",
       "      <td>36.2</td>\n",
       "      <td>14.3714</td>\n",
       "      <td>4.8146</td>\n",
       "    </tr>\n",
       "    <tr>\n",
       "      <td>147</td>\n",
       "      <td>Smelt</td>\n",
       "      <td>7.0</td>\n",
       "      <td>10.1</td>\n",
       "      <td>10.6</td>\n",
       "      <td>11.6</td>\n",
       "      <td>1.7284</td>\n",
       "      <td>1.1484</td>\n",
       "    </tr>\n",
       "    <tr>\n",
       "      <td>150</td>\n",
       "      <td>Smelt</td>\n",
       "      <td>8.7</td>\n",
       "      <td>10.8</td>\n",
       "      <td>11.3</td>\n",
       "      <td>12.6</td>\n",
       "      <td>1.9782</td>\n",
       "      <td>1.2852</td>\n",
       "    </tr>\n",
       "    <tr>\n",
       "      <td>86</td>\n",
       "      <td>Perch</td>\n",
       "      <td>120.0</td>\n",
       "      <td>20.0</td>\n",
       "      <td>22.0</td>\n",
       "      <td>23.5</td>\n",
       "      <td>6.1100</td>\n",
       "      <td>3.4075</td>\n",
       "    </tr>\n",
       "    <tr>\n",
       "      <td>51</td>\n",
       "      <td>Roach</td>\n",
       "      <td>180.0</td>\n",
       "      <td>23.6</td>\n",
       "      <td>25.2</td>\n",
       "      <td>27.9</td>\n",
       "      <td>7.0866</td>\n",
       "      <td>3.9060</td>\n",
       "    </tr>\n",
       "    <tr>\n",
       "      <td>75</td>\n",
       "      <td>Perch</td>\n",
       "      <td>51.5</td>\n",
       "      <td>15.0</td>\n",
       "      <td>16.2</td>\n",
       "      <td>17.2</td>\n",
       "      <td>4.5924</td>\n",
       "      <td>2.6316</td>\n",
       "    </tr>\n",
       "    <tr>\n",
       "      <td>20</td>\n",
       "      <td>Bream</td>\n",
       "      <td>575.0</td>\n",
       "      <td>31.3</td>\n",
       "      <td>34.0</td>\n",
       "      <td>39.5</td>\n",
       "      <td>15.1285</td>\n",
       "      <td>5.5695</td>\n",
       "    </tr>\n",
       "    <tr>\n",
       "      <td>93</td>\n",
       "      <td>Perch</td>\n",
       "      <td>145.0</td>\n",
       "      <td>20.7</td>\n",
       "      <td>22.7</td>\n",
       "      <td>24.2</td>\n",
       "      <td>5.9532</td>\n",
       "      <td>3.6300</td>\n",
       "    </tr>\n",
       "    <tr>\n",
       "      <td>57</td>\n",
       "      <td>Whitefish</td>\n",
       "      <td>306.0</td>\n",
       "      <td>25.6</td>\n",
       "      <td>28.0</td>\n",
       "      <td>30.8</td>\n",
       "      <td>8.7780</td>\n",
       "      <td>4.6816</td>\n",
       "    </tr>\n",
       "  </tbody>\n",
       "</table>\n",
       "</div>"
      ],
      "text/plain": [
       "       Species  Weight  LengthVertical  LengthHorizontal  LengthCruzada  \\\n",
       "154      Smelt    12.2            11.5              12.2           13.4   \n",
       "31       Bream   955.0            35.0              38.5           44.0   \n",
       "81       Perch    85.0            18.2              20.0           21.0   \n",
       "71      Parkki   300.0            24.0              26.0           29.0   \n",
       "74       Perch    40.0            13.8              15.0           16.0   \n",
       "128       Pike   200.0            30.0              32.3           34.8   \n",
       "11       Bream   500.0            28.7              31.0           36.2   \n",
       "147      Smelt     7.0            10.1              10.6           11.6   \n",
       "150      Smelt     8.7            10.8              11.3           12.6   \n",
       "86       Perch   120.0            20.0              22.0           23.5   \n",
       "51       Roach   180.0            23.6              25.2           27.9   \n",
       "75       Perch    51.5            15.0              16.2           17.2   \n",
       "20       Bream   575.0            31.3              34.0           39.5   \n",
       "93       Perch   145.0            20.7              22.7           24.2   \n",
       "57   Whitefish   306.0            25.6              28.0           30.8   \n",
       "\n",
       "      Height   Width  \n",
       "154   2.0904  1.3936  \n",
       "31   18.0840  6.2920  \n",
       "81    5.0820  2.7720  \n",
       "71   11.3680  4.2340  \n",
       "74    3.8240  2.4320  \n",
       "128   5.5680  3.3756  \n",
       "11   14.3714  4.8146  \n",
       "147   1.7284  1.1484  \n",
       "150   1.9782  1.2852  \n",
       "86    6.1100  3.4075  \n",
       "51    7.0866  3.9060  \n",
       "75    4.5924  2.6316  \n",
       "20   15.1285  5.5695  \n",
       "93    5.9532  3.6300  \n",
       "57    8.7780  4.6816  "
      ]
     },
     "execution_count": 20,
     "metadata": {},
     "output_type": "execute_result"
    }
   ],
   "source": [
    "fish.sample(15)"
   ]
  },
  {
   "cell_type": "markdown",
   "metadata": {},
   "source": [
    "A continuación, verifico si en el conjunto de datos existe algún valor omitido."
   ]
  },
  {
   "cell_type": "code",
   "execution_count": 21,
   "metadata": {},
   "outputs": [
    {
     "data": {
      "text/plain": [
       "Species             0\n",
       "Weight              0\n",
       "LengthVertical      0\n",
       "LengthHorizontal    0\n",
       "LengthCruzada       0\n",
       "Height              0\n",
       "Width               0\n",
       "dtype: int64"
      ]
     },
     "execution_count": 21,
     "metadata": {},
     "output_type": "execute_result"
    }
   ],
   "source": [
    "fish.isnull().sum()"
   ]
  },
  {
   "cell_type": "markdown",
   "metadata": {},
   "source": [
    "No se observa ninguna observación nula."
   ]
  },
  {
   "cell_type": "markdown",
   "metadata": {},
   "source": [
    "Llevo a cabo un recuento del número de individuos por especie, lo muestro en una tabla y lo represento gráficamente."
   ]
  },
  {
   "cell_type": "code",
   "execution_count": 22,
   "metadata": {},
   "outputs": [
    {
     "data": {
      "text/html": [
       "<div>\n",
       "<style scoped>\n",
       "    .dataframe tbody tr th:only-of-type {\n",
       "        vertical-align: middle;\n",
       "    }\n",
       "\n",
       "    .dataframe tbody tr th {\n",
       "        vertical-align: top;\n",
       "    }\n",
       "\n",
       "    .dataframe thead th {\n",
       "        text-align: right;\n",
       "    }\n",
       "</style>\n",
       "<table border=\"1\" class=\"dataframe\">\n",
       "  <thead>\n",
       "    <tr style=\"text-align: right;\">\n",
       "      <th></th>\n",
       "      <th>Species</th>\n",
       "    </tr>\n",
       "  </thead>\n",
       "  <tbody>\n",
       "    <tr>\n",
       "      <td>Perch</td>\n",
       "      <td>56</td>\n",
       "    </tr>\n",
       "    <tr>\n",
       "      <td>Bream</td>\n",
       "      <td>35</td>\n",
       "    </tr>\n",
       "    <tr>\n",
       "      <td>Roach</td>\n",
       "      <td>20</td>\n",
       "    </tr>\n",
       "    <tr>\n",
       "      <td>Pike</td>\n",
       "      <td>17</td>\n",
       "    </tr>\n",
       "    <tr>\n",
       "      <td>Smelt</td>\n",
       "      <td>14</td>\n",
       "    </tr>\n",
       "    <tr>\n",
       "      <td>Parkki</td>\n",
       "      <td>11</td>\n",
       "    </tr>\n",
       "    <tr>\n",
       "      <td>Whitefish</td>\n",
       "      <td>6</td>\n",
       "    </tr>\n",
       "  </tbody>\n",
       "</table>\n",
       "</div>"
      ],
      "text/plain": [
       "           Species\n",
       "Perch           56\n",
       "Bream           35\n",
       "Roach           20\n",
       "Pike            17\n",
       "Smelt           14\n",
       "Parkki          11\n",
       "Whitefish        6"
      ]
     },
     "execution_count": 22,
     "metadata": {},
     "output_type": "execute_result"
    }
   ],
   "source": [
    "pd.DataFrame(fish['Species'].value_counts())"
   ]
  },
  {
   "cell_type": "code",
   "execution_count": 23,
   "metadata": {},
   "outputs": [],
   "source": [
    "# guardo el resultado de la anterior operacion en una variable para representar gráficamente a continuación\n",
    "numero_especies = pd.DataFrame(fish['Species'].value_counts())"
   ]
  },
  {
   "cell_type": "code",
   "execution_count": 24,
   "metadata": {},
   "outputs": [
    {
     "data": {
      "image/png": "[encoded data removed]",
      "text/plain": [
       "<Figure size 432x288 with 1 Axes>"
      ]
     },
     "metadata": {
      "needs_background": "light"
     },
     "output_type": "display_data"
    }
   ],
   "source": [
    "sns.barplot(x = numero_especies.index, y = numero_especies['Species']);\n",
    "plt.xlabel('Especies')\n",
    "plt.ylabel('Número de individuos')\n",
    "plt.show()"
   ]
  },
  {
   "cell_type": "markdown",
   "metadata": {},
   "source": [
    "Muestro las estadísticas básicas del data set, tales como media, mediana, varianza... Para cada una de las variables."
   ]
  },
  {
   "cell_type": "code",
   "execution_count": 25,
   "metadata": {},
   "outputs": [
    {
     "data": {
      "text/html": [
       "<div>\n",
       "<style scoped>\n",
       "    .dataframe tbody tr th:only-of-type {\n",
       "        vertical-align: middle;\n",
       "    }\n",
       "\n",
       "    .dataframe tbody tr th {\n",
       "        vertical-align: top;\n",
       "    }\n",
       "\n",
       "    .dataframe thead th {\n",
       "        text-align: right;\n",
       "    }\n",
       "</style>\n",
       "<table border=\"1\" class=\"dataframe\">\n",
       "  <thead>\n",
       "    <tr style=\"text-align: right;\">\n",
       "      <th></th>\n",
       "      <th>Weight</th>\n",
       "      <th>LengthVertical</th>\n",
       "      <th>LengthHorizontal</th>\n",
       "      <th>LengthCruzada</th>\n",
       "      <th>Height</th>\n",
       "      <th>Width</th>\n",
       "    </tr>\n",
       "  </thead>\n",
       "  <tbody>\n",
       "    <tr>\n",
       "      <td>count</td>\n",
       "      <td>159.000000</td>\n",
       "      <td>159.000000</td>\n",
       "      <td>159.000000</td>\n",
       "      <td>159.000000</td>\n",
       "      <td>159.000000</td>\n",
       "      <td>159.000000</td>\n",
       "    </tr>\n",
       "    <tr>\n",
       "      <td>mean</td>\n",
       "      <td>398.326415</td>\n",
       "      <td>26.247170</td>\n",
       "      <td>28.415723</td>\n",
       "      <td>31.227044</td>\n",
       "      <td>8.970994</td>\n",
       "      <td>4.417486</td>\n",
       "    </tr>\n",
       "    <tr>\n",
       "      <td>std</td>\n",
       "      <td>357.978317</td>\n",
       "      <td>9.996441</td>\n",
       "      <td>10.716328</td>\n",
       "      <td>11.610246</td>\n",
       "      <td>4.286208</td>\n",
       "      <td>1.685804</td>\n",
       "    </tr>\n",
       "    <tr>\n",
       "      <td>min</td>\n",
       "      <td>0.000000</td>\n",
       "      <td>7.500000</td>\n",
       "      <td>8.400000</td>\n",
       "      <td>8.800000</td>\n",
       "      <td>1.728400</td>\n",
       "      <td>1.047600</td>\n",
       "    </tr>\n",
       "    <tr>\n",
       "      <td>25%</td>\n",
       "      <td>120.000000</td>\n",
       "      <td>19.050000</td>\n",
       "      <td>21.000000</td>\n",
       "      <td>23.150000</td>\n",
       "      <td>5.944800</td>\n",
       "      <td>3.385650</td>\n",
       "    </tr>\n",
       "    <tr>\n",
       "      <td>50%</td>\n",
       "      <td>273.000000</td>\n",
       "      <td>25.200000</td>\n",
       "      <td>27.300000</td>\n",
       "      <td>29.400000</td>\n",
       "      <td>7.786000</td>\n",
       "      <td>4.248500</td>\n",
       "    </tr>\n",
       "    <tr>\n",
       "      <td>75%</td>\n",
       "      <td>650.000000</td>\n",
       "      <td>32.700000</td>\n",
       "      <td>35.500000</td>\n",
       "      <td>39.650000</td>\n",
       "      <td>12.365900</td>\n",
       "      <td>5.584500</td>\n",
       "    </tr>\n",
       "    <tr>\n",
       "      <td>max</td>\n",
       "      <td>1650.000000</td>\n",
       "      <td>59.000000</td>\n",
       "      <td>63.400000</td>\n",
       "      <td>68.000000</td>\n",
       "      <td>18.957000</td>\n",
       "      <td>8.142000</td>\n",
       "    </tr>\n",
       "  </tbody>\n",
       "</table>\n",
       "</div>"
      ],
      "text/plain": [
       "            Weight  LengthVertical  LengthHorizontal  LengthCruzada  \\\n",
       "count   159.000000      159.000000        159.000000     159.000000   \n",
       "mean    398.326415       26.247170         28.415723      31.227044   \n",
       "std     357.978317        9.996441         10.716328      11.610246   \n",
       "min       0.000000        7.500000          8.400000       8.800000   \n",
       "25%     120.000000       19.050000         21.000000      23.150000   \n",
       "50%     273.000000       25.200000         27.300000      29.400000   \n",
       "75%     650.000000       32.700000         35.500000      39.650000   \n",
       "max    1650.000000       59.000000         63.400000      68.000000   \n",
       "\n",
       "           Height       Width  \n",
       "count  159.000000  159.000000  \n",
       "mean     8.970994    4.417486  \n",
       "std      4.286208    1.685804  \n",
       "min      1.728400    1.047600  \n",
       "25%      5.944800    3.385650  \n",
       "50%      7.786000    4.248500  \n",
       "75%     12.365900    5.584500  \n",
       "max     18.957000    8.142000  "
      ]
     },
     "execution_count": 25,
     "metadata": {},
     "output_type": "execute_result"
    }
   ],
   "source": [
    "fish.describe()"
   ]
  },
  {
   "cell_type": "markdown",
   "metadata": {},
   "source": [
    "Calculo la matriz de correlaciones."
   ]
  },
  {
   "cell_type": "code",
   "execution_count": 27,
   "metadata": {},
   "outputs": [
    {
     "data": {
      "image/png": "[encoded data removed]",
      "text/plain": [
       "<Figure size 432x288 with 2 Axes>"
      ]
     },
     "metadata": {
      "needs_background": "light"
     },
     "output_type": "display_data"
    }
   ],
   "source": [
    "mask = np.zeros_like(fish.corr()) # mascara para cubrir una parte de la matriz\n",
    "mask[np.triu_indices_from(mask)] = True\n",
    "sns.heatmap(fish.corr(), mask = mask, annot = True);"
   ]
  },
  {
   "cell_type": "markdown",
   "metadata": {},
   "source": [
    "Se observa que las variables presentan una alta correlación entre sí, esto podría indicar la existencia de multicolinealidad entre las variables del conjunto de datos. 'Height' es la variable del modelo que menor correlación presenta con el resto. Mientras que el resto de variables prácticamente tienen una relancio de dependencia lineal entre ellas."
   ]
  },
  {
   "cell_type": "code",
   "execution_count": 28,
   "metadata": {},
   "outputs": [
    {
     "data": {
      "image/png": "[encoded data removed]",
      "text/plain": [
       "<Figure size 1163.25x1080 with 42 Axes>"
      ]
     },
     "metadata": {
      "needs_background": "light"
     },
     "output_type": "display_data"
    }
   ],
   "source": [
    "sns.pairplot(fish, kind='scatter', hue='Species');"
   ]
  },
  {
   "cell_type": "markdown",
   "metadata": {},
   "source": [
    "A continuación procedo a reprentar los histogramas de cada una de las variables. El objetivo es ver si la distribución de las observaciones se asemeja a una distribución Normal o Gaussiana."
   ]
  },
  {
   "cell_type": "code",
   "execution_count": 52,
   "metadata": {},
   "outputs": [
    {
     "data": {
      "image/png": "[encoded data removed]",
      "text/plain": [
       "<Figure size 1440x1080 with 6 Axes>"
      ]
     },
     "metadata": {
      "needs_background": "light"
     },
     "output_type": "display_data"
    }
   ],
   "source": [
    "fish.hist(bins=35, figsize=(20,15))\n",
    "plt.show()"
   ]
  },
  {
   "cell_type": "markdown",
   "metadata": {},
   "source": [
    "La representación gráfica no permite ver de una forma clara si las variables siguen una distribución normal, por ello, compruebo la normalidad a través del test de Jarque-Bera."
   ]
  },
  {
   "cell_type": "code",
   "execution_count": 66,
   "metadata": {},
   "outputs": [
    {
     "data": {
      "text/plain": [
       "(6.752472150790562, 0.034175848267410935)"
      ]
     },
     "execution_count": 66,
     "metadata": {},
     "output_type": "execute_result"
    }
   ],
   "source": [
    "# para Height\n",
    "\n",
    "sts.jarque_bera(fish.Height)"
   ]
  },
  {
   "cell_type": "code",
   "execution_count": 67,
   "metadata": {},
   "outputs": [
    {
     "data": {
      "text/plain": [
       "(3.994455059489379, 0.13571101689840492)"
      ]
     },
     "execution_count": 67,
     "metadata": {},
     "output_type": "execute_result"
    }
   ],
   "source": [
    "# para LengthCruzada\n",
    "\n",
    "sts.jarque_bera(fish.LengthCruzada)"
   ]
  },
  {
   "cell_type": "code",
   "execution_count": 68,
   "metadata": {},
   "outputs": [
    {
     "data": {
      "text/plain": [
       "(8.406716095167592, 0.014945305414095778)"
      ]
     },
     "execution_count": 68,
     "metadata": {},
     "output_type": "execute_result"
    }
   ],
   "source": [
    "# para LengthHorizontal\n",
    "\n",
    "sts.jarque_bera(fish.LengthHorizontal)"
   ]
  },
  {
   "cell_type": "code",
   "execution_count": 69,
   "metadata": {},
   "outputs": [
    {
     "data": {
      "text/plain": [
       "(10.004727908433999, 0.006722037612802323)"
      ]
     },
     "execution_count": 69,
     "metadata": {},
     "output_type": "execute_result"
    }
   ],
   "source": [
    "# para LengthVertical\n",
    "\n",
    "sts.jarque_bera(fish.LengthVertical)"
   ]
  },
  {
   "cell_type": "code",
   "execution_count": 70,
   "metadata": {},
   "outputs": [
    {
     "data": {
      "text/plain": [
       "(36.157891220563705, 1.4073874732289937e-08)"
      ]
     },
     "execution_count": 70,
     "metadata": {},
     "output_type": "execute_result"
    }
   ],
   "source": [
    "# para Weight\n",
    "\n",
    "sts.jarque_bera(fish.Weight)"
   ]
  },
  {
   "cell_type": "code",
   "execution_count": 71,
   "metadata": {},
   "outputs": [
    {
     "data": {
      "text/plain": [
       "(2.044835661589135, 0.35972413577542695)"
      ]
     },
     "execution_count": 71,
     "metadata": {},
     "output_type": "execute_result"
    }
   ],
   "source": [
    "# para Width\n",
    "\n",
    "sts.jarque_bera(fish.Width)"
   ]
  },
  {
   "cell_type": "markdown",
   "metadata": {},
   "source": [
    "En todos los casos el test se ha realizado para un nivel de significación del 5%. Dados los p-values obtenidos para cada de las variables del dataset, concluyo que a excepción de 'Width' y 'LengthCruzada', las variables del dataset no siguen una distribución normal."
   ]
  },
  {
   "cell_type": "markdown",
   "metadata": {},
   "source": [
    "El siguiente paso será identificar si existen outliers para cada una de las variables estudiadas. Para ello representaré los diagramas de caja de todos las variables y así poder identificar a los outliers de forma gráfica. Más adelante, mediante el método IQR identificaré las observaciones exactas."
   ]
  },
  {
   "cell_type": "code",
   "execution_count": 15,
   "metadata": {},
   "outputs": [
    {
     "data": {
      "text/plain": [
       "<matplotlib.axes._subplots.AxesSubplot at 0x258e4a96f98>"
      ]
     },
     "execution_count": 15,
     "metadata": {},
     "output_type": "execute_result"
    },
    {
     "data": {
      "image/png": "[encoded data removed]",
      "text/plain": [
       "<Figure size 432x288 with 1 Axes>"
      ]
     },
     "metadata": {
      "needs_background": "light"
     },
     "output_type": "display_data"
    }
   ],
   "source": [
    "sns.boxplot(fish.Weight)"
   ]
  },
  {
   "cell_type": "code",
   "execution_count": 16,
   "metadata": {},
   "outputs": [
    {
     "data": {
      "text/plain": [
       "<matplotlib.axes._subplots.AxesSubplot at 0x258e578e9b0>"
      ]
     },
     "execution_count": 16,
     "metadata": {},
     "output_type": "execute_result"
    },
    {
     "data": {
      "image/png": "[encoded data removed]",
      "text/plain": [
       "<Figure size 432x288 with 1 Axes>"
      ]
     },
     "metadata": {
      "needs_background": "light"
     },
     "output_type": "display_data"
    }
   ],
   "source": [
    "sns.boxplot(fish.Height)"
   ]
  },
  {
   "cell_type": "code",
   "execution_count": 17,
   "metadata": {},
   "outputs": [
    {
     "data": {
      "text/plain": [
       "<matplotlib.axes._subplots.AxesSubplot at 0x258e53b9518>"
      ]
     },
     "execution_count": 17,
     "metadata": {},
     "output_type": "execute_result"
    },
    {
     "data": {
      "image/png": "[encoded data removed]",
      "text/plain": [
       "<Figure size 432x288 with 1 Axes>"
      ]
     },
     "metadata": {
      "needs_background": "light"
     },
     "output_type": "display_data"
    }
   ],
   "source": [
    "sns.boxplot(fish.LengthCruzada)"
   ]
  },
  {
   "cell_type": "code",
   "execution_count": 18,
   "metadata": {},
   "outputs": [
    {
     "data": {
      "text/plain": [
       "<matplotlib.axes._subplots.AxesSubplot at 0x258e55c6d68>"
      ]
     },
     "execution_count": 18,
     "metadata": {},
     "output_type": "execute_result"
    },
    {
     "data": {
      "image/png": "[encoded data removed]",
      "text/plain": [
       "<Figure size 432x288 with 1 Axes>"
      ]
     },
     "metadata": {
      "needs_background": "light"
     },
     "output_type": "display_data"
    }
   ],
   "source": [
    "sns.boxplot(fish.LengthHorizontal)"
   ]
  },
  {
   "cell_type": "code",
   "execution_count": 19,
   "metadata": {},
   "outputs": [
    {
     "data": {
      "text/plain": [
       "<matplotlib.axes._subplots.AxesSubplot at 0x258e45245f8>"
      ]
     },
     "execution_count": 19,
     "metadata": {},
     "output_type": "execute_result"
    },
    {
     "data": {
      "image/png": "[encoded data removed]",
      "text/plain": [
       "<Figure size 432x288 with 1 Axes>"
      ]
     },
     "metadata": {
      "needs_background": "light"
     },
     "output_type": "display_data"
    }
   ],
   "source": [
    "sns.boxplot(fish.LengthVertical)"
   ]
  },
  {
   "cell_type": "code",
   "execution_count": 20,
   "metadata": {},
   "outputs": [
    {
     "data": {
      "text/plain": [
       "<matplotlib.axes._subplots.AxesSubplot at 0x258e4ace278>"
      ]
     },
     "execution_count": 20,
     "metadata": {},
     "output_type": "execute_result"
    },
    {
     "data": {
      "image/png": "[encoded data removed]",
      "text/plain": [
       "<Figure size 432x288 with 1 Axes>"
      ]
     },
     "metadata": {
      "needs_background": "light"
     },
     "output_type": "display_data"
    }
   ],
   "source": [
    "sns.boxplot(fish.Width)"
   ]
  },
  {
   "cell_type": "markdown",
   "metadata": {},
   "source": [
    "Se observan un total de 8 outliers:\n",
    "- 3 correspondientes a la variable 'Weight'.\n",
    "- 1 correspondientes a la variable 'LengthCruzada'.\n",
    "- 2 correspondientes a la variable 'LengthHorizontal'.\n",
    "- 2 correspondientes a la variable 'LengthVertical'.\n",
    "\n",
    "Cabe resaltar que no tiene que tratarse de 8 individuos de forma individual, puede existir la posibilidad de que los datos registrados como outliers, alguno de ellos pertenezcan sólo a un individuo."
   ]
  },
  {
   "cell_type": "code",
   "execution_count": 53,
   "metadata": {},
   "outputs": [
    {
     "data": {
      "text/plain": [
       "142    1600.0\n",
       "143    1550.0\n",
       "144    1650.0\n",
       "Name: Weight, dtype: float64"
      ]
     },
     "execution_count": 53,
     "metadata": {},
     "output_type": "execute_result"
    }
   ],
   "source": [
    "# identifico los outliers de 'Weight'\n",
    "\n",
    "dfw = fish['Weight']\n",
    "PrimerCuartil = dfw.quantile(0.25)\n",
    "TercerCuartil = dfw.quantile(0.75)\n",
    "RecorridoIntercuartilico = TercerCuartil - PrimerCuartil\n",
    "LimiteInferior = PrimerCuartil - (1.5 * RecorridoIntercuartilico)\n",
    "LimiteSuperior = TercerCuartil + (1.5 * RecorridoIntercuartilico)\n",
    "Weightoutliers = dfw[(dfw < LimiteInferior) | (dfw > LimiteSuperior)]\n",
    "Weightoutliers"
   ]
  },
  {
   "cell_type": "code",
   "execution_count": 57,
   "metadata": {},
   "outputs": [
    {
     "data": {
      "text/plain": [
       "144    68.0\n",
       "Name: LengthCruzada, dtype: float64"
      ]
     },
     "execution_count": 57,
     "metadata": {},
     "output_type": "execute_result"
    }
   ],
   "source": [
    "# identifico los outliers de 'LengthCruzada'\n",
    "\n",
    "dflc = fish['LengthCruzada']\n",
    "PrimerCuartil = dflc.quantile(0.25)\n",
    "TercerCuartil = dflc.quantile(0.75)\n",
    "RecorridoIntercuartilico = TercerCuartil - PrimerCuartil\n",
    "LimiteInferior = PrimerCuartil - (1.5 * RecorridoIntercuartilico)\n",
    "LimiteSuperior = TercerCuartil + (1.5 * RecorridoIntercuartilico)\n",
    "LCoutliers = dflc[(dflc < LimiteInferior) | (dflc > LimiteSuperior)]\n",
    "LCoutliers"
   ]
  },
  {
   "cell_type": "code",
   "execution_count": 59,
   "metadata": {},
   "outputs": [
    {
     "data": {
      "text/plain": [
       "142    60.0\n",
       "143    60.0\n",
       "144    63.4\n",
       "Name: LengthHorizontal, dtype: float64"
      ]
     },
     "execution_count": 59,
     "metadata": {},
     "output_type": "execute_result"
    }
   ],
   "source": [
    "# identifico los outliers de 'LengthHorizontal'\n",
    "\n",
    "dflh = fish['LengthHorizontal']\n",
    "PrimerCuartil = dflh.quantile(0.25)\n",
    "TercerCuartil = dflh.quantile(0.75)\n",
    "RecorridoIntercuartilico = TercerCuartil - PrimerCuartil\n",
    "LimiteInferior = PrimerCuartil - (1.5 * RecorridoIntercuartilico)\n",
    "LimiteSuperior = TercerCuartil + (1.5 * RecorridoIntercuartilico)\n",
    "LHoutliers = dflh[(dflh < LimiteInferior) | (dflh > LimiteSuperior)]\n",
    "LHoutliers"
   ]
  },
  {
   "cell_type": "code",
   "execution_count": 60,
   "metadata": {},
   "outputs": [
    {
     "data": {
      "text/plain": [
       "142    56.0\n",
       "143    56.0\n",
       "144    59.0\n",
       "Name: LengthVertical, dtype: float64"
      ]
     },
     "execution_count": 60,
     "metadata": {},
     "output_type": "execute_result"
    }
   ],
   "source": [
    "# identifica los outliers de 'LengthVertical'\n",
    "\n",
    "dflv = fish['LengthVertical']\n",
    "PrimerCuartil = dflv.quantile(0.25)\n",
    "TercerCuartil = dflv.quantile(0.75)\n",
    "RecorridoIntercuartilico = TercerCuartil - PrimerCuartil\n",
    "LimiteInferior = PrimerCuartil - (1.5 * RecorridoIntercuartilico)\n",
    "LimiteSuperior = TercerCuartil + (1.5 * RecorridoIntercuartilico)\n",
    "LVoutliers = dflv[(dflv < LimiteInferior) | (dflv > LimiteSuperior)]\n",
    "LVoutliers"
   ]
  },
  {
   "cell_type": "markdown",
   "metadata": {},
   "source": [
    "En conclusión, los individuos asociados a los valores atípicos u outliers son:\n",
    "- El individuo 142.\n",
    "- El individuo 143.\n",
    "- El individuo 144.\n",
    "\n",
    "Por tanto, procedo a eliminarlos de data set."
   ]
  },
  {
   "cell_type": "code",
   "execution_count": 61,
   "metadata": {},
   "outputs": [
    {
     "data": {
      "text/html": [
       "<div>\n",
       "<style scoped>\n",
       "    .dataframe tbody tr th:only-of-type {\n",
       "        vertical-align: middle;\n",
       "    }\n",
       "\n",
       "    .dataframe tbody tr th {\n",
       "        vertical-align: top;\n",
       "    }\n",
       "\n",
       "    .dataframe thead th {\n",
       "        text-align: right;\n",
       "    }\n",
       "</style>\n",
       "<table border=\"1\" class=\"dataframe\">\n",
       "  <thead>\n",
       "    <tr style=\"text-align: right;\">\n",
       "      <th></th>\n",
       "      <th>Species</th>\n",
       "      <th>Weight</th>\n",
       "      <th>LengthVertical</th>\n",
       "      <th>LengthHorizontal</th>\n",
       "      <th>LengthCruzada</th>\n",
       "      <th>Height</th>\n",
       "      <th>Width</th>\n",
       "    </tr>\n",
       "  </thead>\n",
       "  <tbody>\n",
       "    <tr>\n",
       "      <th>142</th>\n",
       "      <td>Pike</td>\n",
       "      <td>1600.0</td>\n",
       "      <td>56.0</td>\n",
       "      <td>60.0</td>\n",
       "      <td>64.0</td>\n",
       "      <td>9.600</td>\n",
       "      <td>6.144</td>\n",
       "    </tr>\n",
       "    <tr>\n",
       "      <th>143</th>\n",
       "      <td>Pike</td>\n",
       "      <td>1550.0</td>\n",
       "      <td>56.0</td>\n",
       "      <td>60.0</td>\n",
       "      <td>64.0</td>\n",
       "      <td>9.600</td>\n",
       "      <td>6.144</td>\n",
       "    </tr>\n",
       "    <tr>\n",
       "      <th>144</th>\n",
       "      <td>Pike</td>\n",
       "      <td>1650.0</td>\n",
       "      <td>59.0</td>\n",
       "      <td>63.4</td>\n",
       "      <td>68.0</td>\n",
       "      <td>10.812</td>\n",
       "      <td>7.480</td>\n",
       "    </tr>\n",
       "  </tbody>\n",
       "</table>\n",
       "</div>"
      ],
      "text/plain": [
       "    Species  Weight  LengthVertical  LengthHorizontal  LengthCruzada  Height  \\\n",
       "142    Pike  1600.0            56.0              60.0           64.0   9.600   \n",
       "143    Pike  1550.0            56.0              60.0           64.0   9.600   \n",
       "144    Pike  1650.0            59.0              63.4           68.0  10.812   \n",
       "\n",
       "     Width  \n",
       "142  6.144  \n",
       "143  6.144  \n",
       "144  7.480  "
      ]
     },
     "execution_count": 61,
     "metadata": {},
     "output_type": "execute_result"
    }
   ],
   "source": [
    "fish[142:145]"
   ]
  },
  {
   "cell_type": "code",
   "execution_count": 29,
   "metadata": {},
   "outputs": [],
   "source": [
    "# sobreescribo el dataframe original con los outliers ya eliminados\n",
    "\n",
    "fish = fish.drop([142,143,144])"
   ]
  },
  {
   "cell_type": "code",
   "execution_count": 30,
   "metadata": {},
   "outputs": [
    {
     "data": {
      "text/html": [
       "<div>\n",
       "<style scoped>\n",
       "    .dataframe tbody tr th:only-of-type {\n",
       "        vertical-align: middle;\n",
       "    }\n",
       "\n",
       "    .dataframe tbody tr th {\n",
       "        vertical-align: top;\n",
       "    }\n",
       "\n",
       "    .dataframe thead th {\n",
       "        text-align: right;\n",
       "    }\n",
       "</style>\n",
       "<table border=\"1\" class=\"dataframe\">\n",
       "  <thead>\n",
       "    <tr style=\"text-align: right;\">\n",
       "      <th></th>\n",
       "      <th>Species</th>\n",
       "      <th>Weight</th>\n",
       "      <th>LengthVertical</th>\n",
       "      <th>LengthHorizontal</th>\n",
       "      <th>LengthCruzada</th>\n",
       "      <th>Height</th>\n",
       "      <th>Width</th>\n",
       "    </tr>\n",
       "  </thead>\n",
       "  <tbody>\n",
       "    <tr>\n",
       "      <td>0</td>\n",
       "      <td>Bream</td>\n",
       "      <td>242.0</td>\n",
       "      <td>23.2</td>\n",
       "      <td>25.4</td>\n",
       "      <td>30.0</td>\n",
       "      <td>11.5200</td>\n",
       "      <td>4.0200</td>\n",
       "    </tr>\n",
       "    <tr>\n",
       "      <td>1</td>\n",
       "      <td>Bream</td>\n",
       "      <td>290.0</td>\n",
       "      <td>24.0</td>\n",
       "      <td>26.3</td>\n",
       "      <td>31.2</td>\n",
       "      <td>12.4800</td>\n",
       "      <td>4.3056</td>\n",
       "    </tr>\n",
       "    <tr>\n",
       "      <td>2</td>\n",
       "      <td>Bream</td>\n",
       "      <td>340.0</td>\n",
       "      <td>23.9</td>\n",
       "      <td>26.5</td>\n",
       "      <td>31.1</td>\n",
       "      <td>12.3778</td>\n",
       "      <td>4.6961</td>\n",
       "    </tr>\n",
       "    <tr>\n",
       "      <td>3</td>\n",
       "      <td>Bream</td>\n",
       "      <td>363.0</td>\n",
       "      <td>26.3</td>\n",
       "      <td>29.0</td>\n",
       "      <td>33.5</td>\n",
       "      <td>12.7300</td>\n",
       "      <td>4.4555</td>\n",
       "    </tr>\n",
       "    <tr>\n",
       "      <td>4</td>\n",
       "      <td>Bream</td>\n",
       "      <td>430.0</td>\n",
       "      <td>26.5</td>\n",
       "      <td>29.0</td>\n",
       "      <td>34.0</td>\n",
       "      <td>12.4440</td>\n",
       "      <td>5.1340</td>\n",
       "    </tr>\n",
       "    <tr>\n",
       "      <td>...</td>\n",
       "      <td>...</td>\n",
       "      <td>...</td>\n",
       "      <td>...</td>\n",
       "      <td>...</td>\n",
       "      <td>...</td>\n",
       "      <td>...</td>\n",
       "      <td>...</td>\n",
       "    </tr>\n",
       "    <tr>\n",
       "      <td>154</td>\n",
       "      <td>Smelt</td>\n",
       "      <td>12.2</td>\n",
       "      <td>11.5</td>\n",
       "      <td>12.2</td>\n",
       "      <td>13.4</td>\n",
       "      <td>2.0904</td>\n",
       "      <td>1.3936</td>\n",
       "    </tr>\n",
       "    <tr>\n",
       "      <td>155</td>\n",
       "      <td>Smelt</td>\n",
       "      <td>13.4</td>\n",
       "      <td>11.7</td>\n",
       "      <td>12.4</td>\n",
       "      <td>13.5</td>\n",
       "      <td>2.4300</td>\n",
       "      <td>1.2690</td>\n",
       "    </tr>\n",
       "    <tr>\n",
       "      <td>156</td>\n",
       "      <td>Smelt</td>\n",
       "      <td>12.2</td>\n",
       "      <td>12.1</td>\n",
       "      <td>13.0</td>\n",
       "      <td>13.8</td>\n",
       "      <td>2.2770</td>\n",
       "      <td>1.2558</td>\n",
       "    </tr>\n",
       "    <tr>\n",
       "      <td>157</td>\n",
       "      <td>Smelt</td>\n",
       "      <td>19.7</td>\n",
       "      <td>13.2</td>\n",
       "      <td>14.3</td>\n",
       "      <td>15.2</td>\n",
       "      <td>2.8728</td>\n",
       "      <td>2.0672</td>\n",
       "    </tr>\n",
       "    <tr>\n",
       "      <td>158</td>\n",
       "      <td>Smelt</td>\n",
       "      <td>19.9</td>\n",
       "      <td>13.8</td>\n",
       "      <td>15.0</td>\n",
       "      <td>16.2</td>\n",
       "      <td>2.9322</td>\n",
       "      <td>1.8792</td>\n",
       "    </tr>\n",
       "  </tbody>\n",
       "</table>\n",
       "<p>156 rows × 7 columns</p>\n",
       "</div>"
      ],
      "text/plain": [
       "    Species  Weight  LengthVertical  LengthHorizontal  LengthCruzada   Height  \\\n",
       "0     Bream   242.0            23.2              25.4           30.0  11.5200   \n",
       "1     Bream   290.0            24.0              26.3           31.2  12.4800   \n",
       "2     Bream   340.0            23.9              26.5           31.1  12.3778   \n",
       "3     Bream   363.0            26.3              29.0           33.5  12.7300   \n",
       "4     Bream   430.0            26.5              29.0           34.0  12.4440   \n",
       "..      ...     ...             ...               ...            ...      ...   \n",
       "154   Smelt    12.2            11.5              12.2           13.4   2.0904   \n",
       "155   Smelt    13.4            11.7              12.4           13.5   2.4300   \n",
       "156   Smelt    12.2            12.1              13.0           13.8   2.2770   \n",
       "157   Smelt    19.7            13.2              14.3           15.2   2.8728   \n",
       "158   Smelt    19.9            13.8              15.0           16.2   2.9322   \n",
       "\n",
       "      Width  \n",
       "0    4.0200  \n",
       "1    4.3056  \n",
       "2    4.6961  \n",
       "3    4.4555  \n",
       "4    5.1340  \n",
       "..      ...  \n",
       "154  1.3936  \n",
       "155  1.2690  \n",
       "156  1.2558  \n",
       "157  2.0672  \n",
       "158  1.8792  \n",
       "\n",
       "[156 rows x 7 columns]"
      ]
     },
     "execution_count": 30,
     "metadata": {},
     "output_type": "execute_result"
    }
   ],
   "source": [
    "fish"
   ]
  },
  {
   "cell_type": "markdown",
   "metadata": {},
   "source": [
    "### PREPARACION DE LAS REGRESIONES"
   ]
  },
  {
   "cell_type": "markdown",
   "metadata": {},
   "source": [
    "Antes de llevar a cabo la elaboración de cualquier modelo predictivo he de eliminar la variable categórica y establecer el target. En este caso el objetivo será predecir 'Weight' a partir del resto de variables numéricas."
   ]
  },
  {
   "cell_type": "code",
   "execution_count": 31,
   "metadata": {},
   "outputs": [],
   "source": [
    "# realizo una copia de dataframe original\n",
    "\n",
    "fish2 = fish"
   ]
  },
  {
   "cell_type": "code",
   "execution_count": 32,
   "metadata": {},
   "outputs": [],
   "source": [
    "# borro la variable categorica\n",
    "\n",
    "del fish2['Species']"
   ]
  },
  {
   "cell_type": "code",
   "execution_count": 33,
   "metadata": {},
   "outputs": [
    {
     "data": {
      "text/html": [
       "<div>\n",
       "<style scoped>\n",
       "    .dataframe tbody tr th:only-of-type {\n",
       "        vertical-align: middle;\n",
       "    }\n",
       "\n",
       "    .dataframe tbody tr th {\n",
       "        vertical-align: top;\n",
       "    }\n",
       "\n",
       "    .dataframe thead th {\n",
       "        text-align: right;\n",
       "    }\n",
       "</style>\n",
       "<table border=\"1\" class=\"dataframe\">\n",
       "  <thead>\n",
       "    <tr style=\"text-align: right;\">\n",
       "      <th></th>\n",
       "      <th>Weight</th>\n",
       "      <th>LengthVertical</th>\n",
       "      <th>LengthHorizontal</th>\n",
       "      <th>LengthCruzada</th>\n",
       "      <th>Height</th>\n",
       "      <th>Width</th>\n",
       "    </tr>\n",
       "  </thead>\n",
       "  <tbody>\n",
       "    <tr>\n",
       "      <td>0</td>\n",
       "      <td>242.0</td>\n",
       "      <td>23.2</td>\n",
       "      <td>25.4</td>\n",
       "      <td>30.0</td>\n",
       "      <td>11.5200</td>\n",
       "      <td>4.0200</td>\n",
       "    </tr>\n",
       "    <tr>\n",
       "      <td>1</td>\n",
       "      <td>290.0</td>\n",
       "      <td>24.0</td>\n",
       "      <td>26.3</td>\n",
       "      <td>31.2</td>\n",
       "      <td>12.4800</td>\n",
       "      <td>4.3056</td>\n",
       "    </tr>\n",
       "    <tr>\n",
       "      <td>2</td>\n",
       "      <td>340.0</td>\n",
       "      <td>23.9</td>\n",
       "      <td>26.5</td>\n",
       "      <td>31.1</td>\n",
       "      <td>12.3778</td>\n",
       "      <td>4.6961</td>\n",
       "    </tr>\n",
       "    <tr>\n",
       "      <td>3</td>\n",
       "      <td>363.0</td>\n",
       "      <td>26.3</td>\n",
       "      <td>29.0</td>\n",
       "      <td>33.5</td>\n",
       "      <td>12.7300</td>\n",
       "      <td>4.4555</td>\n",
       "    </tr>\n",
       "    <tr>\n",
       "      <td>4</td>\n",
       "      <td>430.0</td>\n",
       "      <td>26.5</td>\n",
       "      <td>29.0</td>\n",
       "      <td>34.0</td>\n",
       "      <td>12.4440</td>\n",
       "      <td>5.1340</td>\n",
       "    </tr>\n",
       "    <tr>\n",
       "      <td>...</td>\n",
       "      <td>...</td>\n",
       "      <td>...</td>\n",
       "      <td>...</td>\n",
       "      <td>...</td>\n",
       "      <td>...</td>\n",
       "      <td>...</td>\n",
       "    </tr>\n",
       "    <tr>\n",
       "      <td>154</td>\n",
       "      <td>12.2</td>\n",
       "      <td>11.5</td>\n",
       "      <td>12.2</td>\n",
       "      <td>13.4</td>\n",
       "      <td>2.0904</td>\n",
       "      <td>1.3936</td>\n",
       "    </tr>\n",
       "    <tr>\n",
       "      <td>155</td>\n",
       "      <td>13.4</td>\n",
       "      <td>11.7</td>\n",
       "      <td>12.4</td>\n",
       "      <td>13.5</td>\n",
       "      <td>2.4300</td>\n",
       "      <td>1.2690</td>\n",
       "    </tr>\n",
       "    <tr>\n",
       "      <td>156</td>\n",
       "      <td>12.2</td>\n",
       "      <td>12.1</td>\n",
       "      <td>13.0</td>\n",
       "      <td>13.8</td>\n",
       "      <td>2.2770</td>\n",
       "      <td>1.2558</td>\n",
       "    </tr>\n",
       "    <tr>\n",
       "      <td>157</td>\n",
       "      <td>19.7</td>\n",
       "      <td>13.2</td>\n",
       "      <td>14.3</td>\n",
       "      <td>15.2</td>\n",
       "      <td>2.8728</td>\n",
       "      <td>2.0672</td>\n",
       "    </tr>\n",
       "    <tr>\n",
       "      <td>158</td>\n",
       "      <td>19.9</td>\n",
       "      <td>13.8</td>\n",
       "      <td>15.0</td>\n",
       "      <td>16.2</td>\n",
       "      <td>2.9322</td>\n",
       "      <td>1.8792</td>\n",
       "    </tr>\n",
       "  </tbody>\n",
       "</table>\n",
       "<p>156 rows × 6 columns</p>\n",
       "</div>"
      ],
      "text/plain": [
       "     Weight  LengthVertical  LengthHorizontal  LengthCruzada   Height   Width\n",
       "0     242.0            23.2              25.4           30.0  11.5200  4.0200\n",
       "1     290.0            24.0              26.3           31.2  12.4800  4.3056\n",
       "2     340.0            23.9              26.5           31.1  12.3778  4.6961\n",
       "3     363.0            26.3              29.0           33.5  12.7300  4.4555\n",
       "4     430.0            26.5              29.0           34.0  12.4440  5.1340\n",
       "..      ...             ...               ...            ...      ...     ...\n",
       "154    12.2            11.5              12.2           13.4   2.0904  1.3936\n",
       "155    13.4            11.7              12.4           13.5   2.4300  1.2690\n",
       "156    12.2            12.1              13.0           13.8   2.2770  1.2558\n",
       "157    19.7            13.2              14.3           15.2   2.8728  2.0672\n",
       "158    19.9            13.8              15.0           16.2   2.9322  1.8792\n",
       "\n",
       "[156 rows x 6 columns]"
      ]
     },
     "execution_count": 33,
     "metadata": {},
     "output_type": "execute_result"
    }
   ],
   "source": [
    "fish2"
   ]
  },
  {
   "cell_type": "code",
   "execution_count": 34,
   "metadata": {},
   "outputs": [],
   "source": [
    "# la variable objetivo a predecir\n",
    "\n",
    "target_column = ['Weight'] \n",
    "\n",
    "# el resto de variables serán los predictores\n",
    "\n",
    "predictors = list(set(list(fish2.columns))-set(target_column)) "
   ]
  },
  {
   "cell_type": "code",
   "execution_count": 35,
   "metadata": {},
   "outputs": [
    {
     "name": "stdout",
     "output_type": "stream",
     "text": [
      "(109, 5)\n",
      "(47, 5)\n"
     ]
    }
   ],
   "source": [
    "# genero dos vectores, uno con las observaciones de la variable a predecir y otro con las de los\n",
    "# predictores\n",
    "\n",
    "X = fish2[predictors].values\n",
    "y = fish2[target_column].values\n",
    "\n",
    "# realizo una division del dataframe en train y test en una proporcion 70:30\n",
    "\n",
    "X_train, X_test, y_train, y_test = train_test_split(X, y, test_size=0.30, random_state=40)\n",
    "print(X_train.shape); print(X_test.shape)"
   ]
  },
  {
   "cell_type": "markdown",
   "metadata": {},
   "source": [
    "### LASSO"
   ]
  },
  {
   "cell_type": "raw",
   "metadata": {},
   "source": [
    "# para lasso obtengo el valor óptimo de alfa por cross validation\n",
    "\n",
    "lassocv = LassoCV(alphas = None, cv = 10, max_iter = 100000, normalize = True)\n",
    "lassocv.fit(X_train, y_train)\n",
    "lassocv.alpha_\n",
    "\n",
    "# realizo la regresion\n",
    "\n",
    "model_lasso = Lasso(alpha=lassocv.alpha_) # funcion lasso\n",
    "model_lasso.fit(X_train, y_train) # ajuste sobre el train\n",
    "pred_test_lasso = model_lasso.predict(X_test) # prediccion sobre el test\n",
    "print(np.sqrt(mean_squared_error(y_test,pred_test_lasso))) # error sobre el test\n",
    "print(r2_score(y_test, pred_test_lasso)) # R^2 sobre el test"
   ]
  },
  {
   "cell_type": "code",
   "execution_count": 39,
   "metadata": {},
   "outputs": [
    {
     "data": {
      "text/html": [
       "<div>\n",
       "<style scoped>\n",
       "    .dataframe tbody tr th:only-of-type {\n",
       "        vertical-align: middle;\n",
       "    }\n",
       "\n",
       "    .dataframe tbody tr th {\n",
       "        vertical-align: top;\n",
       "    }\n",
       "\n",
       "    .dataframe thead th {\n",
       "        text-align: right;\n",
       "    }\n",
       "</style>\n",
       "<table border=\"1\" class=\"dataframe\">\n",
       "  <thead>\n",
       "    <tr style=\"text-align: right;\">\n",
       "      <th></th>\n",
       "      <th>Variables</th>\n",
       "      <th>Coeficientes</th>\n",
       "    </tr>\n",
       "  </thead>\n",
       "  <tbody>\n",
       "    <tr>\n",
       "      <td>0</td>\n",
       "      <td>LengthHorizontal</td>\n",
       "      <td>-14.068466</td>\n",
       "    </tr>\n",
       "    <tr>\n",
       "      <td>1</td>\n",
       "      <td>LengthCruzada</td>\n",
       "      <td>-28.715589</td>\n",
       "    </tr>\n",
       "    <tr>\n",
       "      <td>2</td>\n",
       "      <td>Width</td>\n",
       "      <td>41.341049</td>\n",
       "    </tr>\n",
       "    <tr>\n",
       "      <td>3</td>\n",
       "      <td>Height</td>\n",
       "      <td>33.435865</td>\n",
       "    </tr>\n",
       "    <tr>\n",
       "      <td>4</td>\n",
       "      <td>LengthVertical</td>\n",
       "      <td>62.259402</td>\n",
       "    </tr>\n",
       "  </tbody>\n",
       "</table>\n",
       "</div>"
      ],
      "text/plain": [
       "          Variables  Coeficientes\n",
       "0  LengthHorizontal    -14.068466\n",
       "1     LengthCruzada    -28.715589\n",
       "2             Width     41.341049\n",
       "3            Height     33.435865\n",
       "4    LengthVertical     62.259402"
      ]
     },
     "execution_count": 39,
     "metadata": {},
     "output_type": "execute_result"
    }
   ],
   "source": [
    "representacion = pd.DataFrame({'Variables': predictors, \"Coeficientes\": model_lasso.coef_})\n",
    "representacion"
   ]
  },
  {
   "cell_type": "markdown",
   "metadata": {},
   "source": [
    "### RIDGE "
   ]
  },
  {
   "cell_type": "code",
   "execution_count": 53,
   "metadata": {},
   "outputs": [
    {
     "name": "stdout",
     "output_type": "stream",
     "text": [
      "107.51483587424667\n",
      "0.8835913946492991\n"
     ]
    }
   ],
   "source": [
    "# genero en primer lugar los valores de alfa\n",
    "\n",
    "alphas = 10**np.linspace(10,-2,100)*0.5\n",
    "\n",
    "# a continuacion averiguo el valor optimo de alfa para la regresion ridge, aquel que de un\n",
    "# menor error cuadratico medio\n",
    "\n",
    "ridgecv = RidgeCV(alphas = alphas, scoring = 'neg_mean_squared_error', normalize = True)\n",
    "ridgecv.fit(X_train, y_train)\n",
    "ridgecv.alpha_\n",
    "\n",
    "# realizo la regresion\n",
    "\n",
    "RidgeRegression = Ridge(alpha=ridgecv.alpha_) # funcion ridge\n",
    "RidgeRegression.fit(X_train, y_train) # ajuste sobre el train\n",
    "pred_test_rr = RidgeRegression.predict(X_test) # prediccion sobre el test\n",
    "print(np.sqrt(mean_squared_error(y_test,pred_test_rr)))  # error sobre el test\n",
    "print(r2_score(y_test, pred_test_rr)) # R^2 sobre el test"
   ]
  },
  {
   "cell_type": "code",
   "execution_count": 55,
   "metadata": {},
   "outputs": [
    {
     "data": {
      "text/plain": [
       "(['LengthHorizontal', 'LengthCruzada', 'Width', 'Height', 'LengthVertical'],\n",
       " array([[-44.99741816, -37.14916308,  52.39450942,  36.84306436,\n",
       "         102.47749578]]))"
      ]
     },
     "execution_count": 55,
     "metadata": {},
     "output_type": "execute_result"
    }
   ],
   "source": [
    "RidgeRegression.fit(X, y)\n",
    "predictors, RidgeRegression.coef_"
   ]
  },
  {
   "cell_type": "markdown",
   "metadata": {},
   "source": [
    "# CONCLUSIONES "
   ]
  },
  {
   "cell_type": "markdown",
   "metadata": {},
   "source": [
    "Para el caso que acontece, resulta más adecuado llevar a cabo la realización del modelo predictivo mediante una regresión Ridge que a través de una regresión Lasso.\n",
    "\n",
    "Lasso arroja un error medio de 108 gramos y ofrece un R cuadrado de 0,8825. Mientras, Ridge presenta un error medio de 107,5 gramos y un R cuadrado de 0,8834. "
   ]
  }
 ],
 "metadata": {
  "kernelspec": {
   "display_name": "Python 3",
   "language": "python",
   "name": "python3"
  },
  "language_info": {
   "codemirror_mode": {
    "name": "ipython",
    "version": 3
   },
   "file_extension": ".py",
   "mimetype": "text/x-python",
   "name": "python",
   "nbconvert_exporter": "python",
   "pygments_lexer": "ipython3",
   "version": "3.7.4"
  }
 },
 "nbformat": 4,
 "nbformat_minor": 2
}
